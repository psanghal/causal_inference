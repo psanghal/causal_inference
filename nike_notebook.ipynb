{
 "cells": [
  {
   "cell_type": "markdown",
   "metadata": {
    "deletable": false,
    "editable": false,
    "nbgrader": {
     "checksum": "7f3061dca9429a328de942e1eeca98de",
     "grade": false,
     "grade_id": "Heading",
     "locked": true,
     "schema_version": 1,
     "solution": false
    }
   },
   "source": [
    "# Causal Inference\n",
    "# School of Information, University of Michigan \n",
    "## Week 2"
   ]
  },
  {
   "cell_type": "markdown",
   "metadata": {
    "deletable": false,
    "editable": false,
    "nbgrader": {
     "checksum": "d28bf73d0329e20fc95c6fd3e0276e34",
     "grade": false,
     "grade_id": "Resources",
     "locked": true,
     "schema_version": 1,
     "solution": false
    }
   },
   "source": [
    "### Resources:\n",
    "- Course Manual, which can be found in Coursera\n",
    "- [\"Nike Says Its \\$250 Running Shoes Will Make You Run Much Faster. What if That’s Actually True?\"](assets/NYT_Nike.pdf)"
   ]
  },
  {
   "cell_type": "markdown",
   "metadata": {
    "deletable": false,
    "editable": false,
    "nbgrader": {
     "checksum": "fdbb26e1c9ad1ecf5d011da2386a61d4",
     "grade": false,
     "grade_id": "BackgroundPart1",
     "locked": true,
     "schema_version": 1,
     "solution": false
    }
   },
   "source": [
    "## Part 1\n",
    "\n",
    "### Background\n",
    "Nike claims that its $250 running shoes called “Vaporfly” will make you run much faster!"
   ]
  },
  {
   "cell_type": "markdown",
   "metadata": {
    "deletable": false,
    "editable": false,
    "nbgrader": {
     "checksum": "bded84432bf4b1c6dbf2d75951e7027a",
     "grade": false,
     "grade_id": "DataPart1",
     "locked": true,
     "schema_version": 1,
     "solution": false
    }
   },
   "source": [
    "### Data \n",
    "\n",
    "The data file “lecture2_match_reg.csv” contains 5 variables for 24,699 runners that qualified for and ran the same marathon. Below are the descriptions of each variable in the data: \n",
    "\n",
    "- \\`age\\`: age of runner (min value: 18, max value: 55)\n",
    "- \\`male\\`: dummy variable for gender; equal to 0 if female, 1 if male \n",
    "- \\`marathoner_type\\`: \n",
    "    - “seasoned” if runner has at least 3 prior completed marathons, \n",
    "    - “enthusiastic” if runner has completed 1 or 2 prior completed marathons, \n",
    "    - “first_timer” if this is a runner’s first time running a marathon \n",
    "- \\`vaporfly\\`: 1 if a runner’s racing shoe is Nike Vaporfly, 0 otherwise \n",
    "- \\`race_time\\`: marathon completion time in seconds"
   ]
  },
  {
   "cell_type": "code",
   "execution_count": 1,
   "metadata": {
    "deletable": false,
    "editable": false,
    "nbgrader": {
     "checksum": "f8d7f27d5737d8c0758a90bd014f9400",
     "grade": false,
     "grade_id": "ImportStatements",
     "locked": true,
     "schema_version": 1,
     "solution": false
    }
   },
   "outputs": [],
   "source": [
    "#Import Statements. Run this cell.\n",
    "import pandas as pd\n",
    "import numpy as np\n",
    "import statsmodels.api as sm\n",
    "import statsmodels.formula.api as smf\n",
    "from causalinference import CausalModel"
   ]
  },
  {
   "cell_type": "code",
   "execution_count": 2,
   "metadata": {},
   "outputs": [
    {
     "data": {
      "text/html": [
       "<div>\n",
       "<style scoped>\n",
       "    .dataframe tbody tr th:only-of-type {\n",
       "        vertical-align: middle;\n",
       "    }\n",
       "\n",
       "    .dataframe tbody tr th {\n",
       "        vertical-align: top;\n",
       "    }\n",
       "\n",
       "    .dataframe thead th {\n",
       "        text-align: right;\n",
       "    }\n",
       "</style>\n",
       "<table border=\"1\" class=\"dataframe\">\n",
       "  <thead>\n",
       "    <tr style=\"text-align: right;\">\n",
       "      <th></th>\n",
       "      <th>age</th>\n",
       "      <th>marathoner_type</th>\n",
       "      <th>vaporfly</th>\n",
       "      <th>race_time</th>\n",
       "      <th>male</th>\n",
       "    </tr>\n",
       "  </thead>\n",
       "  <tbody>\n",
       "    <tr>\n",
       "      <th>0</th>\n",
       "      <td>41</td>\n",
       "      <td>enthusiastic</td>\n",
       "      <td>1</td>\n",
       "      <td>11755.176</td>\n",
       "      <td>1</td>\n",
       "    </tr>\n",
       "    <tr>\n",
       "      <th>1</th>\n",
       "      <td>42</td>\n",
       "      <td>enthusiastic</td>\n",
       "      <td>1</td>\n",
       "      <td>14980.950</td>\n",
       "      <td>0</td>\n",
       "    </tr>\n",
       "    <tr>\n",
       "      <th>2</th>\n",
       "      <td>39</td>\n",
       "      <td>enthusiastic</td>\n",
       "      <td>0</td>\n",
       "      <td>12342.542</td>\n",
       "      <td>1</td>\n",
       "    </tr>\n",
       "    <tr>\n",
       "      <th>3</th>\n",
       "      <td>29</td>\n",
       "      <td>enthusiastic</td>\n",
       "      <td>0</td>\n",
       "      <td>13142.107</td>\n",
       "      <td>1</td>\n",
       "    </tr>\n",
       "    <tr>\n",
       "      <th>4</th>\n",
       "      <td>34</td>\n",
       "      <td>enthusiastic</td>\n",
       "      <td>1</td>\n",
       "      <td>13255.874</td>\n",
       "      <td>0</td>\n",
       "    </tr>\n",
       "  </tbody>\n",
       "</table>\n",
       "</div>"
      ],
      "text/plain": [
       "   age marathoner_type  vaporfly  race_time  male\n",
       "0   41    enthusiastic         1  11755.176     1\n",
       "1   42    enthusiastic         1  14980.950     0\n",
       "2   39    enthusiastic         0  12342.542     1\n",
       "3   29    enthusiastic         0  13142.107     1\n",
       "4   34    enthusiastic         1  13255.874     0"
      ]
     },
     "execution_count": 2,
     "metadata": {},
     "output_type": "execute_result"
    }
   ],
   "source": [
    "#Uploading data for assignment. Run this cell.\n",
    "data_marathon = pd.read_csv('assets/lecture2_match_reg.csv')\n",
    "\n",
    "#Uncomment below to see the first five lines of the dataframe.\n",
    "data_marathon.head()"
   ]
  },
  {
   "cell_type": "markdown",
   "metadata": {
    "deletable": false,
    "editable": false,
    "nbgrader": {
     "checksum": "647f5abc78e946f21fb79ebb45973161",
     "grade": false,
     "grade_id": "QuestionPart1",
     "locked": true,
     "schema_version": 1,
     "solution": false
    }
   },
   "source": [
    "## Questions\n",
    "\n",
    "Using data on race times, we want to explore the accuracy of this claim using marathon runners data. To be more specific, Nike’s claim is that runners run 4% faster with Vaporfly shoes.\n",
    "\n",
    "**Note**: You can refer to the manual for the methods we use in the assignment if you need to. \n",
    "\n",
    "**Use the data_marathon dataframe uploaded above to answer the questions below unless otherwise specified.**"
   ]
  },
  {
   "cell_type": "markdown",
   "metadata": {
    "deletable": false,
    "editable": false,
    "nbgrader": {
     "checksum": "45eb5b5ec90480e7dcf5736c6d929502",
     "grade": false,
     "grade_id": "Question1_1",
     "locked": true,
     "schema_version": 1,
     "solution": false
    }
   },
   "source": [
    "**1.** In order to be able to interpret our results in the same format (i.e. percentage change), we want to conduct our analysis over the (natural) log of race times. Transform the original race_time variable by taking its natural log, call the new variable `ln_race_time`, and add it to the data_marathon dataframe. We will use *ln_race_time* as our outcome variable throughout the entire assignment. (1 pt)\n",
    "\n",
    "**Tip**: Use the `.head()` or `.sample()` methods to check your work."
   ]
  },
  {
   "cell_type": "code",
   "execution_count": 3,
   "metadata": {
    "deletable": false,
    "nbgrader": {
     "checksum": "233864dcc7fd0be5f3c9330a2145598a",
     "grade": false,
     "grade_id": "Answer1_1",
     "locked": false,
     "schema_version": 1,
     "solution": true
    }
   },
   "outputs": [
    {
     "data": {
      "text/html": [
       "<div>\n",
       "<style scoped>\n",
       "    .dataframe tbody tr th:only-of-type {\n",
       "        vertical-align: middle;\n",
       "    }\n",
       "\n",
       "    .dataframe tbody tr th {\n",
       "        vertical-align: top;\n",
       "    }\n",
       "\n",
       "    .dataframe thead th {\n",
       "        text-align: right;\n",
       "    }\n",
       "</style>\n",
       "<table border=\"1\" class=\"dataframe\">\n",
       "  <thead>\n",
       "    <tr style=\"text-align: right;\">\n",
       "      <th></th>\n",
       "      <th>age</th>\n",
       "      <th>marathoner_type</th>\n",
       "      <th>vaporfly</th>\n",
       "      <th>race_time</th>\n",
       "      <th>male</th>\n",
       "      <th>ln_race_time</th>\n",
       "    </tr>\n",
       "  </thead>\n",
       "  <tbody>\n",
       "    <tr>\n",
       "      <th>0</th>\n",
       "      <td>41</td>\n",
       "      <td>enthusiastic</td>\n",
       "      <td>1</td>\n",
       "      <td>11755.176</td>\n",
       "      <td>1</td>\n",
       "      <td>9.372049</td>\n",
       "    </tr>\n",
       "    <tr>\n",
       "      <th>1</th>\n",
       "      <td>42</td>\n",
       "      <td>enthusiastic</td>\n",
       "      <td>1</td>\n",
       "      <td>14980.950</td>\n",
       "      <td>0</td>\n",
       "      <td>9.614535</td>\n",
       "    </tr>\n",
       "    <tr>\n",
       "      <th>2</th>\n",
       "      <td>39</td>\n",
       "      <td>enthusiastic</td>\n",
       "      <td>0</td>\n",
       "      <td>12342.542</td>\n",
       "      <td>1</td>\n",
       "      <td>9.420807</td>\n",
       "    </tr>\n",
       "    <tr>\n",
       "      <th>3</th>\n",
       "      <td>29</td>\n",
       "      <td>enthusiastic</td>\n",
       "      <td>0</td>\n",
       "      <td>13142.107</td>\n",
       "      <td>1</td>\n",
       "      <td>9.483577</td>\n",
       "    </tr>\n",
       "    <tr>\n",
       "      <th>4</th>\n",
       "      <td>34</td>\n",
       "      <td>enthusiastic</td>\n",
       "      <td>1</td>\n",
       "      <td>13255.874</td>\n",
       "      <td>0</td>\n",
       "      <td>9.492196</td>\n",
       "    </tr>\n",
       "  </tbody>\n",
       "</table>\n",
       "</div>"
      ],
      "text/plain": [
       "   age marathoner_type  vaporfly  race_time  male  ln_race_time\n",
       "0   41    enthusiastic         1  11755.176     1      9.372049\n",
       "1   42    enthusiastic         1  14980.950     0      9.614535\n",
       "2   39    enthusiastic         0  12342.542     1      9.420807\n",
       "3   29    enthusiastic         0  13142.107     1      9.483577\n",
       "4   34    enthusiastic         1  13255.874     0      9.492196"
      ]
     },
     "execution_count": 3,
     "metadata": {},
     "output_type": "execute_result"
    }
   ],
   "source": [
    "# YOUR CODE HERE\n",
    "\n",
    "#Take natural log of race_time and add it to data_marathon:\n",
    "data_marathon['ln_race_time'] = np.log(data_marathon['race_time'])\n",
    "\n",
    "data_marathon.head()\n",
    "\n",
    "#raise NotImplementedError()"
   ]
  },
  {
   "cell_type": "code",
   "execution_count": 4,
   "metadata": {
    "deletable": false,
    "editable": false,
    "nbgrader": {
     "checksum": "8a068b1ff25f97a4b0d87fac6ca1994b",
     "grade": true,
     "grade_id": "Test1_1",
     "locked": true,
     "points": 1,
     "schema_version": 1,
     "solution": false
    }
   },
   "outputs": [],
   "source": [
    "# Hidden Tests, checking the value of ln_race_time."
   ]
  },
  {
   "cell_type": "markdown",
   "metadata": {
    "deletable": false,
    "editable": false,
    "nbgrader": {
     "checksum": "0a9fef803d288cf12aa5d82be98769cc",
     "grade": false,
     "grade_id": "Question1_2",
     "locked": true,
     "schema_version": 1,
     "solution": false
    }
   },
   "source": [
    "**2.** Compute the means of ln_race_time for runners who wore Vaporfly and for those who did not. What is the difference between the means across those two groups? Assign the value to the variable `mean_diff1_2`. Ensure that the response is correct to at least 4 decimal points and that its data type is float. (1 pt)"
   ]
  },
  {
   "cell_type": "code",
   "execution_count": 5,
   "metadata": {
    "deletable": false,
    "nbgrader": {
     "checksum": "c56295fbda32b629807b0325812e44c1",
     "grade": false,
     "grade_id": "Answer1_2",
     "locked": false,
     "schema_version": 1,
     "solution": true
    }
   },
   "outputs": [
    {
     "data": {
      "text/plain": [
       "-0.064"
      ]
     },
     "execution_count": 5,
     "metadata": {},
     "output_type": "execute_result"
    }
   ],
   "source": [
    "# YOUR CODE HERE\n",
    "#Mean difference between ln_race_time, wearing vapourfly Vs not and rounded up to 4 decimal points: \n",
    "mean_diff1_2 = (data_marathon['ln_race_time'][data_marathon['vaporfly']==1].mean()- data_marathon['ln_race_time'][data_marathon['vaporfly']==0].mean()).round(4)\n",
    "\n",
    "mean_diff1_2\n",
    "\n",
    "#Why is this negaive. It could be because it took shorter race time using vaporfly shoes. \n",
    "#raise NotImplementedError()"
   ]
  },
  {
   "cell_type": "code",
   "execution_count": 6,
   "metadata": {
    "deletable": false,
    "editable": false,
    "nbgrader": {
     "checksum": "56cffde77da60440c46acdb258f442a4",
     "grade": true,
     "grade_id": "Test1_2",
     "locked": true,
     "points": 1,
     "schema_version": 1,
     "solution": false
    }
   },
   "outputs": [],
   "source": [
    "# Hidden Tests, checking the value of mean_diff1_2."
   ]
  },
  {
   "cell_type": "markdown",
   "metadata": {
    "deletable": false,
    "editable": false,
    "nbgrader": {
     "checksum": "d6932b55475842405564838134e9d5c8",
     "grade": false,
     "grade_id": "Question1_3",
     "locked": true,
     "schema_version": 1,
     "solution": false
    }
   },
   "source": [
    "**3.** Suppose the only thing that matters for race time is age. We want to estimate average treatment effects (ATE) of wearing Nike Vaporfly shoes, using nearest neighbor matching on variable *age* with respect to Euclidean distance. Use the `CausalModel` module and assign the ATE to the variable `ate1_3`. Ensure that the data type of *ate1_3* is float. (Round to three decimal places.) (2 pts)\n",
    "\n",
    "**Use the data_sample1_3 dataframe for your response below (Question 3); data_sample1_3 is a subsample of our marathon data, which will save computational time for this question.**"
   ]
  },
  {
   "cell_type": "code",
   "execution_count": 7,
   "metadata": {
    "deletable": false,
    "editable": false,
    "nbgrader": {
     "checksum": "bff9156c4a5072433391d33a51e0db41",
     "grade": false,
     "grade_id": "DataSample1_3",
     "locked": true,
     "schema_version": 1,
     "solution": false
    }
   },
   "outputs": [],
   "source": [
    "data_sample1_3 = data_marathon.sample(n = 2000, random_state = 123)"
   ]
  },
  {
   "cell_type": "code",
   "execution_count": 8,
   "metadata": {
    "deletable": false,
    "nbgrader": {
     "checksum": "35cb7c2555285d80ccd97ff9091c5484",
     "grade": false,
     "grade_id": "Answer1_3",
     "locked": false,
     "schema_version": 1,
     "solution": true
    }
   },
   "outputs": [
    {
     "name": "stdout",
     "output_type": "stream",
     "text": [
      "\n",
      "Treatment Effect Estimates: Matching\n",
      "\n",
      "                     Est.       S.e.          z      P>|z|      [95% Conf. int.]\n",
      "--------------------------------------------------------------------------------\n",
      "           ATE     -0.037      0.006     -6.307      0.000     -0.049     -0.026\n",
      "           ATC     -0.035      0.006     -5.862      0.000     -0.047     -0.024\n",
      "           ATT     -0.039      0.006     -6.436      0.000     -0.051     -0.027\n",
      "\n"
     ]
    }
   ],
   "source": [
    "# YOUR CODE HERE\n",
    "data_sample1_3.head()\n",
    "\n",
    "#Store variable age as array:\n",
    "age_array = np.array(data_sample1_3['age'])\n",
    "\n",
    "#Use Causal Model to assess the impact of age variable on people wearning vaporfly shoes or not on the racetime: \n",
    "m = CausalModel(Y = data_sample1_3['ln_race_time'].values,  #Outcome variable race time\n",
    "                D= data_sample1_3['vaporfly'].values,       #Treatment variable 'vaporfly'\n",
    "                X = age_array )                             #Using 'age' as covariate array\n",
    "\n",
    "#Get nearest neighbour matching estimates of ATE, ATC, ATT   \n",
    "m.est_via_matching()\n",
    "\n",
    "print(m.estimates)\n",
    "\n",
    "#Filter out ATE from m.estimates upto 3 decimal places: \n",
    "ate1_3 = m.estimates['matching']['ate'].round(3)\n",
    "\n",
    "#raise NotImplementedError()"
   ]
  },
  {
   "cell_type": "code",
   "execution_count": 9,
   "metadata": {},
   "outputs": [
    {
     "name": "stdout",
     "output_type": "stream",
     "text": [
      " ATE using Nearest Neighbour: -0.037\n"
     ]
    }
   ],
   "source": [
    "print(f\" ATE using Nearest Neighbour: {ate1_3}\")"
   ]
  },
  {
   "cell_type": "code",
   "execution_count": 10,
   "metadata": {
    "deletable": false,
    "editable": false,
    "nbgrader": {
     "checksum": "8e7bea50a89eba910f0594ed747a3569",
     "grade": true,
     "grade_id": "Test1_3",
     "locked": true,
     "points": 2,
     "schema_version": 1,
     "solution": false
    }
   },
   "outputs": [],
   "source": [
    "# Hidden Tests, checking the value of ate1_3."
   ]
  },
  {
   "cell_type": "markdown",
   "metadata": {
    "deletable": false,
    "editable": false,
    "nbgrader": {
     "checksum": "61c01d46a1b1e2a00a8bf135859282a2",
     "grade": false,
     "grade_id": "Question1_4a",
     "locked": true,
     "schema_version": 1,
     "solution": false
    }
   },
   "source": [
    "**4.** We want to conduct propensity score matching to estimate the ATE of running with Nike Vaporfly shoes.\n",
    "\n",
    "**Note: We are back to using the original dataframe data_marathon.**\n",
    "\n",
    "**4a.** Create binary variables called `seasoned` and `enthusiastic` that are equal to 1 for the corresponding *marathoner_type* values and 0 otherwise. Add these variables to the data_marathon dataframe. (1 pt)\n",
    "\n",
    "**Tip**: Use the `np.where()` method to create the binary variables."
   ]
  },
  {
   "cell_type": "code",
   "execution_count": 11,
   "metadata": {
    "deletable": false,
    "nbgrader": {
     "checksum": "a221d92b159a4ef4c8daebc8cef58f3e",
     "grade": false,
     "grade_id": "Answer1_4a",
     "locked": false,
     "schema_version": 1,
     "solution": true
    }
   },
   "outputs": [
    {
     "data": {
      "text/html": [
       "<div>\n",
       "<style scoped>\n",
       "    .dataframe tbody tr th:only-of-type {\n",
       "        vertical-align: middle;\n",
       "    }\n",
       "\n",
       "    .dataframe tbody tr th {\n",
       "        vertical-align: top;\n",
       "    }\n",
       "\n",
       "    .dataframe thead th {\n",
       "        text-align: right;\n",
       "    }\n",
       "</style>\n",
       "<table border=\"1\" class=\"dataframe\">\n",
       "  <thead>\n",
       "    <tr style=\"text-align: right;\">\n",
       "      <th></th>\n",
       "      <th>age</th>\n",
       "      <th>marathoner_type</th>\n",
       "      <th>vaporfly</th>\n",
       "      <th>race_time</th>\n",
       "      <th>male</th>\n",
       "      <th>ln_race_time</th>\n",
       "      <th>seasoned</th>\n",
       "      <th>enthusiastic</th>\n",
       "    </tr>\n",
       "  </thead>\n",
       "  <tbody>\n",
       "    <tr>\n",
       "      <th>0</th>\n",
       "      <td>41</td>\n",
       "      <td>enthusiastic</td>\n",
       "      <td>1</td>\n",
       "      <td>11755.176</td>\n",
       "      <td>1</td>\n",
       "      <td>9.372049</td>\n",
       "      <td>0</td>\n",
       "      <td>1</td>\n",
       "    </tr>\n",
       "    <tr>\n",
       "      <th>1</th>\n",
       "      <td>42</td>\n",
       "      <td>enthusiastic</td>\n",
       "      <td>1</td>\n",
       "      <td>14980.950</td>\n",
       "      <td>0</td>\n",
       "      <td>9.614535</td>\n",
       "      <td>0</td>\n",
       "      <td>1</td>\n",
       "    </tr>\n",
       "    <tr>\n",
       "      <th>2</th>\n",
       "      <td>39</td>\n",
       "      <td>enthusiastic</td>\n",
       "      <td>0</td>\n",
       "      <td>12342.542</td>\n",
       "      <td>1</td>\n",
       "      <td>9.420807</td>\n",
       "      <td>0</td>\n",
       "      <td>1</td>\n",
       "    </tr>\n",
       "    <tr>\n",
       "      <th>3</th>\n",
       "      <td>29</td>\n",
       "      <td>enthusiastic</td>\n",
       "      <td>0</td>\n",
       "      <td>13142.107</td>\n",
       "      <td>1</td>\n",
       "      <td>9.483577</td>\n",
       "      <td>0</td>\n",
       "      <td>1</td>\n",
       "    </tr>\n",
       "    <tr>\n",
       "      <th>4</th>\n",
       "      <td>34</td>\n",
       "      <td>enthusiastic</td>\n",
       "      <td>1</td>\n",
       "      <td>13255.874</td>\n",
       "      <td>0</td>\n",
       "      <td>9.492196</td>\n",
       "      <td>0</td>\n",
       "      <td>1</td>\n",
       "    </tr>\n",
       "  </tbody>\n",
       "</table>\n",
       "</div>"
      ],
      "text/plain": [
       "   age marathoner_type  vaporfly  race_time  male  ln_race_time  seasoned  \\\n",
       "0   41    enthusiastic         1  11755.176     1      9.372049         0   \n",
       "1   42    enthusiastic         1  14980.950     0      9.614535         0   \n",
       "2   39    enthusiastic         0  12342.542     1      9.420807         0   \n",
       "3   29    enthusiastic         0  13142.107     1      9.483577         0   \n",
       "4   34    enthusiastic         1  13255.874     0      9.492196         0   \n",
       "\n",
       "   enthusiastic  \n",
       "0             1  \n",
       "1             1  \n",
       "2             1  \n",
       "3             1  \n",
       "4             1  "
      ]
     },
     "execution_count": 11,
     "metadata": {},
     "output_type": "execute_result"
    }
   ],
   "source": [
    "# YOUR CODE HERE\n",
    "#Convert marathoner_type in to binary values (seasonsed|enthusiastic 1, otherwise 0)\n",
    "\n",
    "data_marathon['seasoned'] = np.where(data_marathon['marathoner_type']=='seasoned', 1, 0)\n",
    "data_marathon['enthusiastic'] = np.where(data_marathon['marathoner_type']=='enthusiastic', 1, 0)\n",
    "\n",
    "#See data:\n",
    "data_marathon.head()\n",
    "#raise NotImplementedError()"
   ]
  },
  {
   "cell_type": "code",
   "execution_count": 12,
   "metadata": {
    "deletable": false,
    "editable": false,
    "nbgrader": {
     "checksum": "3c867db7c91a3ed4d3d8e3dcfb91de0f",
     "grade": true,
     "grade_id": "Test1_4a",
     "locked": true,
     "points": 1,
     "schema_version": 1,
     "solution": false
    }
   },
   "outputs": [],
   "source": [
    "# Hidden Tests, checking the values of seasoned and enthusiastic."
   ]
  },
  {
   "cell_type": "markdown",
   "metadata": {
    "deletable": false,
    "editable": false,
    "nbgrader": {
     "checksum": "c39aa75b33113ed999ea2194b857edc2",
     "grade": false,
     "grade_id": "Question1_4b",
     "locked": true,
     "schema_version": 1,
     "solution": false
    }
   },
   "source": [
    "**4b.** Use propensity score matching with a logit model to estimate the ATE of wearing Nike Vaporfly shoes. Use the variables *age*, *male*, *seasoned*, *enthusiastic* and the methods `est_propensity()` and `est_via_matching()` from the CausalModel module. Assign the ATE to the variable `ate1_4b` and ensure that its data type is float. (Round to three decimal places.) (2 pts)\n",
    "\n",
    "**Use the data_sample1_4b dataframe for your response below (Question 3); data_sample1_3 is a subsample of our marathon data, which will save computational time for this question.**"
   ]
  },
  {
   "cell_type": "code",
   "execution_count": 13,
   "metadata": {},
   "outputs": [
    {
     "data": {
      "text/html": [
       "<div>\n",
       "<style scoped>\n",
       "    .dataframe tbody tr th:only-of-type {\n",
       "        vertical-align: middle;\n",
       "    }\n",
       "\n",
       "    .dataframe tbody tr th {\n",
       "        vertical-align: top;\n",
       "    }\n",
       "\n",
       "    .dataframe thead th {\n",
       "        text-align: right;\n",
       "    }\n",
       "</style>\n",
       "<table border=\"1\" class=\"dataframe\">\n",
       "  <thead>\n",
       "    <tr style=\"text-align: right;\">\n",
       "      <th></th>\n",
       "      <th>age</th>\n",
       "      <th>marathoner_type</th>\n",
       "      <th>vaporfly</th>\n",
       "      <th>race_time</th>\n",
       "      <th>male</th>\n",
       "      <th>ln_race_time</th>\n",
       "      <th>seasoned</th>\n",
       "      <th>enthusiastic</th>\n",
       "    </tr>\n",
       "  </thead>\n",
       "  <tbody>\n",
       "    <tr>\n",
       "      <th>17708</th>\n",
       "      <td>32</td>\n",
       "      <td>first_timer</td>\n",
       "      <td>0</td>\n",
       "      <td>13415.146</td>\n",
       "      <td>0</td>\n",
       "      <td>9.504140</td>\n",
       "      <td>0</td>\n",
       "      <td>0</td>\n",
       "    </tr>\n",
       "    <tr>\n",
       "      <th>10157</th>\n",
       "      <td>34</td>\n",
       "      <td>first_timer</td>\n",
       "      <td>0</td>\n",
       "      <td>16504.877</td>\n",
       "      <td>0</td>\n",
       "      <td>9.711411</td>\n",
       "      <td>0</td>\n",
       "      <td>0</td>\n",
       "    </tr>\n",
       "    <tr>\n",
       "      <th>21933</th>\n",
       "      <td>35</td>\n",
       "      <td>first_timer</td>\n",
       "      <td>1</td>\n",
       "      <td>14836.316</td>\n",
       "      <td>0</td>\n",
       "      <td>9.604833</td>\n",
       "      <td>0</td>\n",
       "      <td>0</td>\n",
       "    </tr>\n",
       "    <tr>\n",
       "      <th>13741</th>\n",
       "      <td>37</td>\n",
       "      <td>first_timer</td>\n",
       "      <td>0</td>\n",
       "      <td>17957.191</td>\n",
       "      <td>0</td>\n",
       "      <td>9.795746</td>\n",
       "      <td>0</td>\n",
       "      <td>0</td>\n",
       "    </tr>\n",
       "    <tr>\n",
       "      <th>4524</th>\n",
       "      <td>26</td>\n",
       "      <td>seasoned</td>\n",
       "      <td>1</td>\n",
       "      <td>14254.088</td>\n",
       "      <td>1</td>\n",
       "      <td>9.564799</td>\n",
       "      <td>1</td>\n",
       "      <td>0</td>\n",
       "    </tr>\n",
       "  </tbody>\n",
       "</table>\n",
       "</div>"
      ],
      "text/plain": [
       "       age marathoner_type  vaporfly  race_time  male  ln_race_time  seasoned  \\\n",
       "17708   32     first_timer         0  13415.146     0      9.504140         0   \n",
       "10157   34     first_timer         0  16504.877     0      9.711411         0   \n",
       "21933   35     first_timer         1  14836.316     0      9.604833         0   \n",
       "13741   37     first_timer         0  17957.191     0      9.795746         0   \n",
       "4524    26        seasoned         1  14254.088     1      9.564799         1   \n",
       "\n",
       "       enthusiastic  \n",
       "17708             0  \n",
       "10157             0  \n",
       "21933             0  \n",
       "13741             0  \n",
       "4524              0  "
      ]
     },
     "execution_count": 13,
     "metadata": {},
     "output_type": "execute_result"
    }
   ],
   "source": [
    "data_sample1_4b = data_marathon.sample(n = 2000, random_state = 123)\n",
    "data_sample1_4b.head()"
   ]
  },
  {
   "cell_type": "code",
   "execution_count": 14,
   "metadata": {
    "deletable": false,
    "nbgrader": {
     "checksum": "1ecf1d9cb4bd4d64dcf3469987c4e0f3",
     "grade": false,
     "grade_id": "Answer1_4b",
     "locked": false,
     "schema_version": 1,
     "solution": true
    }
   },
   "outputs": [
    {
     "name": "stdout",
     "output_type": "stream",
     "text": [
      "(2000, 4)\n",
      "\n",
      "Treatment Effect Estimates: Matching\n",
      "\n",
      "                     Est.       S.e.          z      P>|z|      [95% Conf. int.]\n",
      "--------------------------------------------------------------------------------\n",
      "           ATE     -0.037      0.006     -6.762      0.000     -0.048     -0.027\n",
      "           ATC     -0.036      0.006     -6.304      0.000     -0.047     -0.025\n",
      "           ATT     -0.039      0.006     -6.433      0.000     -0.051     -0.027\n",
      "\n"
     ]
    }
   ],
   "source": [
    "# YOUR CODE HERE\n",
    "\n",
    "#Store age, gender, seasoned and enthusiast variable as covariate array: \n",
    "variables_array = np.array(data_sample1_4b[['age', 'male', 'seasoned', 'enthusiastic']])\n",
    "#Get shape of array:\n",
    "print(variables_array.shape)\n",
    "\n",
    "#Now, let's use casual model on variables_array for people wearing vaporfly or not: \n",
    "m_2 = CausalModel(Y = data_sample1_4b['ln_race_time'].values, #Outcome variable race time\n",
    "                  D = data_sample1_4b['vaporfly'].values,     #Wearning vaporfly or not\n",
    "                  X = variables_array)                                                               #Covariate Array\n",
    "\n",
    "#Estimate Propensity Score to get ATE, ATC, ATT: \n",
    "m_2.est_propensity()\n",
    "m_2.est_via_matching()\n",
    "\n",
    "print(m_2.estimates)\n",
    "\n",
    "#Filter out ATE from m_2.estimates: \n",
    "ate1_4b = m_2.estimates['matching']['ate'].round(3)\n",
    "\n",
    "#raise NotImplementedError()"
   ]
  },
  {
   "cell_type": "code",
   "execution_count": 15,
   "metadata": {},
   "outputs": [
    {
     "name": "stdout",
     "output_type": "stream",
     "text": [
      " ATE using Propensity Score: -0.037\n"
     ]
    }
   ],
   "source": [
    "print(f\" ATE using Propensity Score: {ate1_4b}\")"
   ]
  },
  {
   "cell_type": "code",
   "execution_count": 16,
   "metadata": {
    "deletable": false,
    "editable": false,
    "nbgrader": {
     "checksum": "78d0aefaa3438cbed7e9c5c8c297fd4d",
     "grade": true,
     "grade_id": "cell-8a35cb57f47ab2d6",
     "locked": true,
     "points": 2,
     "schema_version": 1,
     "solution": false
    }
   },
   "outputs": [],
   "source": [
    "#Hidden Tests, checking the value of ate1_4b."
   ]
  },
  {
   "cell_type": "markdown",
   "metadata": {
    "deletable": false,
    "editable": false,
    "nbgrader": {
     "checksum": "e3f1a7dbe6e405f8f283fadaea0d0ec9",
     "grade": false,
     "grade_id": "Part2",
     "locked": true,
     "schema_version": 1,
     "solution": false
    }
   },
   "source": [
    "## Part 2\n",
    "\n",
    "> “Although regression is a many-splendored thing, we think of it as an automated matchmaker. Specifically, regression estimates are weighted averages of multiple matched comparisons of the sort constructed for the groups in our stylized matching matrix.” (Mastering Metrics, p. 49)\n",
    "\n",
    "We now want to use controlled regression to conduct our analysis."
   ]
  },
  {
   "cell_type": "markdown",
   "metadata": {
    "deletable": false,
    "editable": false,
    "nbgrader": {
     "checksum": "4c6246898b914cc0cf480ba96e1709e9",
     "grade": false,
     "grade_id": "Question2_1",
     "locked": true,
     "schema_version": 1,
     "solution": false
    }
   },
   "source": [
    "**1.** Using robust standard errors, regress *ln_race_time* on variables *vaporfly*, *male*, *seasoned*, and *enthusiastic*. Assign the results (using the `.get_robustcov_results()` method) to the variable `ols_robust2_1`.  (2 pts)"
   ]
  },
  {
   "cell_type": "code",
   "execution_count": 17,
   "metadata": {
    "deletable": false,
    "nbgrader": {
     "checksum": "bb3ebd8d95ef7f3e57f306fc82f536d5",
     "grade": false,
     "grade_id": "Answer2_1",
     "locked": false,
     "schema_version": 1,
     "solution": true
    }
   },
   "outputs": [
    {
     "name": "stdout",
     "output_type": "stream",
     "text": [
      "                            OLS Regression Results                            \n",
      "==============================================================================\n",
      "Dep. Variable:           ln_race_time   R-squared:                       0.304\n",
      "Model:                            OLS   Adj. R-squared:                  0.303\n",
      "Method:                 Least Squares   F-statistic:                     2691.\n",
      "Date:                Tue, 16 Feb 2021   Prob (F-statistic):               0.00\n",
      "Time:                        22:48:47   Log-Likelihood:                 17850.\n",
      "No. Observations:               24699   AIC:                        -3.569e+04\n",
      "Df Residuals:                   24694   BIC:                        -3.565e+04\n",
      "Df Model:                           4                                         \n",
      "Covariance Type:            nonrobust                                         \n",
      "================================================================================\n",
      "                   coef    std err          t      P>|t|      [0.025      0.975]\n",
      "--------------------------------------------------------------------------------\n",
      "Intercept        9.6532      0.001   7501.940      0.000       9.651       9.656\n",
      "vaporfly        -0.0658      0.001    -43.996      0.000      -0.069      -0.063\n",
      "male            -0.1285      0.002    -84.221      0.000      -0.132      -0.126\n",
      "seasoned        -0.0878      0.002    -41.724      0.000      -0.092      -0.084\n",
      "enthusiastic    -0.0547      0.003    -15.865      0.000      -0.061      -0.048\n",
      "==============================================================================\n",
      "Omnibus:                      751.285   Durbin-Watson:                   2.006\n",
      "Prob(Omnibus):                  0.000   Jarque-Bera (JB):              859.354\n",
      "Skew:                          -0.402   Prob(JB):                    2.47e-187\n",
      "Kurtosis:                       3.434   Cond. No.                         5.72\n",
      "==============================================================================\n",
      "\n",
      "Warnings:\n",
      "[1] Standard Errors assume that the covariance matrix of the errors is correctly specified.\n"
     ]
    },
    {
     "data": {
      "text/plain": [
       "<statsmodels.regression.linear_model.OLSResults at 0x7fe3efbd4080>"
      ]
     },
     "execution_count": 17,
     "metadata": {},
     "output_type": "execute_result"
    }
   ],
   "source": [
    "# YOUR CODE HERE\n",
    "\n",
    "#Regress ln_race_time on various variables:\n",
    "m_3  = smf.ols(\"ln_race_time~vaporfly+male+seasoned+enthusiastic\", data = data_marathon)\n",
    "\n",
    "#Fit m_3 (old model):\n",
    "result = m_3.fit()\n",
    "\n",
    "#Print model summary: \n",
    "print(result.summary())\n",
    "#Here we noticed variance in standard error between (vaporfly, seasoned, enthusiastic), hence we will use \n",
    "#robust standrad error to get the result: \n",
    "\n",
    "#Assign object result of Robust standard error to ols_robust2_1, which will give us an object: \n",
    "ols_robust2_1 = result.get_robustcov_results(cov_type= 'HC1')\n",
    "ols_robust2_1\n",
    "\n",
    "#raise NotImplementedError()"
   ]
  },
  {
   "cell_type": "code",
   "execution_count": 18,
   "metadata": {},
   "outputs": [
    {
     "name": "stdout",
     "output_type": "stream",
     "text": [
      "Summary of Robust Standard Error:                             OLS Regression Results                            \n",
      "==============================================================================\n",
      "Dep. Variable:           ln_race_time   R-squared:                       0.304\n",
      "Model:                            OLS   Adj. R-squared:                  0.303\n",
      "Method:                 Least Squares   F-statistic:                     2437.\n",
      "Date:                Tue, 16 Feb 2021   Prob (F-statistic):               0.00\n",
      "Time:                        22:48:48   Log-Likelihood:                 17850.\n",
      "No. Observations:               24699   AIC:                        -3.569e+04\n",
      "Df Residuals:                   24694   BIC:                        -3.565e+04\n",
      "Df Model:                           4                                         \n",
      "Covariance Type:                  HC1                                         \n",
      "================================================================================\n",
      "                   coef    std err          t      P>|t|      [0.025      0.975]\n",
      "--------------------------------------------------------------------------------\n",
      "Intercept        9.6532      0.001   7842.522      0.000       9.651       9.656\n",
      "vaporfly        -0.0658      0.001    -43.994      0.000      -0.069      -0.063\n",
      "male            -0.1285      0.002    -81.963      0.000      -0.132      -0.125\n",
      "seasoned        -0.0878      0.002    -39.585      0.000      -0.092      -0.083\n",
      "enthusiastic    -0.0547      0.004    -15.446      0.000      -0.062      -0.048\n",
      "==============================================================================\n",
      "Omnibus:                      751.285   Durbin-Watson:                   2.006\n",
      "Prob(Omnibus):                  0.000   Jarque-Bera (JB):              859.354\n",
      "Skew:                          -0.402   Prob(JB):                    2.47e-187\n",
      "Kurtosis:                       3.434   Cond. No.                         5.72\n",
      "==============================================================================\n",
      "\n",
      "Warnings:\n",
      "[1] Standard Errors are heteroscedasticity robust (HC1)\n"
     ]
    }
   ],
   "source": [
    "print(f\"Summary of Robust Standard Error: {ols_robust2_1.summary()}\")"
   ]
  },
  {
   "cell_type": "code",
   "execution_count": 19,
   "metadata": {
    "deletable": false,
    "editable": false,
    "nbgrader": {
     "checksum": "278364b3031daff1fc1cc43aa5edf0c3",
     "grade": true,
     "grade_id": "Test2_1",
     "locked": true,
     "points": 2,
     "schema_version": 1,
     "solution": false
    }
   },
   "outputs": [],
   "source": [
    "# Hidden Tests, checking the coefficients and standard errors of ols_model2_1."
   ]
  },
  {
   "cell_type": "markdown",
   "metadata": {
    "deletable": false,
    "editable": false,
    "nbgrader": {
     "checksum": "c82446eb0baffb2d0629e52b1c952bd8",
     "grade": false,
     "grade_id": "ManualQuestion2_2a",
     "locked": true,
     "schema_version": 1,
     "solution": false
    }
   },
   "source": [
    "**2.** Vaporfly shoes are pretty expensive, with a retail price of $250. Younger runners, who we expect would have lower income levels, may find it too expensive to purchase. Furthermore, it has been documented that in endurance type races, such as marathons, older runners are actually faster than their younger peers. Answer the following questions based on this information. \n",
    "\n",
    "**2a.** Would you expect the effect of the omitted variable *age* on the outcome variable *ln_race_time* to be positive or negative? (1 pt)\n",
    "\n",
    "**Note**: This question will be manually graded."
   ]
  },
  {
   "cell_type": "markdown",
   "metadata": {
    "deletable": false,
    "nbgrader": {
     "checksum": "1275b4787682444b6ee1ad766e1d545e",
     "grade": true,
     "grade_id": "ManualAnswer2_2a",
     "locked": false,
     "points": 0,
     "schema_version": 1,
     "solution": true
    }
   },
   "source": [
    "YOUR ANSWER HERE\n",
    "\n",
    "Negative, because older runners would be able to afford vaporfly shoes and alos are actually faster than their younger peers. "
   ]
  },
  {
   "cell_type": "markdown",
   "metadata": {
    "deletable": false,
    "editable": false,
    "nbgrader": {
     "checksum": "92380d16c30527776d9f3262c19305d8",
     "grade": false,
     "grade_id": "ManualQuestion2_2b",
     "locked": true,
     "schema_version": 1,
     "solution": false
    }
   },
   "source": [
    "**2b.** If we were to regress the omitted variable *age* on the treatment variable *vaporfly*, would you expect the coefficient in front of the variable *vaporfly* to be positive or negative? (1 pt)\n",
    "\n",
    "**Note**: This question will be manually graded."
   ]
  },
  {
   "cell_type": "code",
   "execution_count": 20,
   "metadata": {},
   "outputs": [
    {
     "name": "stdout",
     "output_type": "stream",
     "text": [
      "                            OLS Regression Results                            \n",
      "==============================================================================\n",
      "Dep. Variable:                    age   R-squared:                       0.041\n",
      "Model:                            OLS   Adj. R-squared:                  0.041\n",
      "Method:                 Least Squares   F-statistic:                     1050.\n",
      "Date:                Tue, 16 Feb 2021   Prob (F-statistic):          1.61e-225\n",
      "Time:                        22:48:48   Log-Likelihood:                -81617.\n",
      "No. Observations:               24699   AIC:                         1.632e+05\n",
      "Df Residuals:                   24697   BIC:                         1.633e+05\n",
      "Df Model:                           1                                         \n",
      "Covariance Type:            nonrobust                                         \n",
      "==============================================================================\n",
      "                 coef    std err          t      P>|t|      [0.025      0.975]\n",
      "------------------------------------------------------------------------------\n",
      "Intercept     32.8231      0.060    550.757      0.000      32.706      32.940\n",
      "vaporfly       2.7171      0.084     32.396      0.000       2.553       2.881\n",
      "==============================================================================\n",
      "Omnibus:                      136.988   Durbin-Watson:                   1.992\n",
      "Prob(Omnibus):                  0.000   Jarque-Bera (JB):              118.713\n",
      "Skew:                           0.118   Prob(JB):                     1.67e-26\n",
      "Kurtosis:                       2.755   Cond. No.                         2.63\n",
      "==============================================================================\n",
      "\n",
      "Warnings:\n",
      "[1] Standard Errors assume that the covariance matrix of the errors is correctly specified.\n"
     ]
    }
   ],
   "source": [
    "#Ols model regress omitted variable 'age' on treatment variable 'vaporfly':\n",
    "model = smf.ols('age~vaporfly', data = data_marathon).fit()\n",
    "print(model.summary())"
   ]
  },
  {
   "cell_type": "markdown",
   "metadata": {
    "deletable": false,
    "nbgrader": {
     "checksum": "0ef4d6970af6ae0d6b66cac5d3182f73",
     "grade": true,
     "grade_id": "ManualAnswer2_2b",
     "locked": false,
     "points": 0,
     "schema_version": 1,
     "solution": true
    }
   },
   "source": [
    "YOUR ANSWER HERE\n",
    "\n",
    "I expect it to be positive due to possible positive correlation between older runners and vaporfly shoes (older runners are likely to be able to afford $250 vaporfly shoes).\n",
    "To test this out, I ran the ols regression model between age and vaporfly treatment variable and observed a positive coefficient for vaporfly variable from the model summary as shown above. "
   ]
  },
  {
   "cell_type": "markdown",
   "metadata": {
    "deletable": false,
    "editable": false,
    "nbgrader": {
     "checksum": "b300a26edb713b6ac634e75fa75e642d",
     "grade": false,
     "grade_id": "ManualQuestion2_2c",
     "locked": true,
     "schema_version": 1,
     "solution": false
    }
   },
   "source": [
    "**2c.** State the OVB (omitted variable bias) formula. Based on it, would you expect the omitted variable bias to be positive or negative? Explain. (2 pts) \n",
    "\n",
    "**Note**: This question will be manually graded."
   ]
  },
  {
   "cell_type": "code",
   "execution_count": 21,
   "metadata": {},
   "outputs": [],
   "source": [
    "#Now, let's get the regression coefficient of treatment variable 'vaporfly' on omitted variable 'age', \n",
    "#which was calculated earlier by model.summary is equal to 2.7171.  "
   ]
  },
  {
   "cell_type": "code",
   "execution_count": 22,
   "metadata": {},
   "outputs": [
    {
     "name": "stdout",
     "output_type": "stream",
     "text": [
      "Omitted Variable Bias: -0.023\n"
     ]
    }
   ],
   "source": [
    "#Hence, \n",
    "OVB = round(-0.0086*2.7171,3)\n",
    "print(f\"Omitted Variable Bias: {OVB}\")"
   ]
  },
  {
   "cell_type": "markdown",
   "metadata": {
    "deletable": false,
    "nbgrader": {
     "checksum": "04a2d8484864f19896b159bd61cf8a5f",
     "grade": true,
     "grade_id": "ManualAnswer2_2c",
     "locked": false,
     "points": 0,
     "schema_version": 1,
     "solution": true
    }
   },
   "source": [
    "YOUR ANSWER HERE\n",
    "\n",
    "Omitted Variable Bias (OVB) formula =  (Effect of the omitted variable on the outcome) x (Effect of included variable on the omitted variable)\n",
    "\n",
    "Based on above formula, I expect omitted variable to be negative because based on the causal model using nearest neighbor matching, the average treatment effect of age on people wearning vaporfly or not on the race time was -0.037. This tells me that people wearning the vaporfly shoes took shorter race time than people not wearing it, hence the regression coefficient of age should be a negative value. \n",
    "Moreover, when we regressed omitted variable 'age' on treatment variable 'vaporfly', the regression coefficient of vaporfly was a positive value 2.7171. Hence, s per the formula above OBV will be negative.  \n",
    "\n",
    "Below, from question 3, we can also test this out by using OLS regression model. \n",
    "\n",
    "First, we calculate the effect of omitted variable on the outcome: (i.e if had included age in our ols regression model, then what would be the regression coefficient of the omitted variable age). This came out to be -0.0086 from omitted_age summary below.  \n",
    "\n",
    "Hence, OVB  = -0.0086 x 2.7171\n",
    "\n",
    "OVB = -0.023, which is a negative bias as expected. \n"
   ]
  },
  {
   "cell_type": "markdown",
   "metadata": {
    "deletable": false,
    "editable": false,
    "nbgrader": {
     "checksum": "12108f9647c90509854fd3a4da39b031",
     "grade": false,
     "grade_id": "Question2_3",
     "locked": true,
     "schema_version": 1,
     "solution": false
    }
   },
   "source": [
    "**3.** Let’s confirm the omitted variable bias. Run the regression from Part 2, Question 1 but this time also control for runners’ age by including the additional control variable age. "
   ]
  },
  {
   "cell_type": "code",
   "execution_count": 23,
   "metadata": {
    "deletable": false,
    "nbgrader": {
     "checksum": "aa50c77930dc22047b581349c94fd490",
     "grade": false,
     "grade_id": "Answer2_3",
     "locked": false,
     "schema_version": 1,
     "solution": true
    }
   },
   "outputs": [
    {
     "data": {
      "text/html": [
       "<table class=\"simpletable\">\n",
       "<caption>OLS Regression Results</caption>\n",
       "<tr>\n",
       "  <th>Dep. Variable:</th>      <td>ln_race_time</td>   <th>  R-squared:         </th>  <td>   0.464</td> \n",
       "</tr>\n",
       "<tr>\n",
       "  <th>Model:</th>                   <td>OLS</td>       <th>  Adj. R-squared:    </th>  <td>   0.464</td> \n",
       "</tr>\n",
       "<tr>\n",
       "  <th>Method:</th>             <td>Least Squares</td>  <th>  F-statistic:       </th>  <td>   4273.</td> \n",
       "</tr>\n",
       "<tr>\n",
       "  <th>Date:</th>             <td>Tue, 16 Feb 2021</td> <th>  Prob (F-statistic):</th>   <td>  0.00</td>  \n",
       "</tr>\n",
       "<tr>\n",
       "  <th>Time:</th>                 <td>22:48:48</td>     <th>  Log-Likelihood:    </th>  <td>  21081.</td> \n",
       "</tr>\n",
       "<tr>\n",
       "  <th>No. Observations:</th>      <td> 24699</td>      <th>  AIC:               </th> <td>-4.215e+04</td>\n",
       "</tr>\n",
       "<tr>\n",
       "  <th>Df Residuals:</th>          <td> 24693</td>      <th>  BIC:               </th> <td>-4.210e+04</td>\n",
       "</tr>\n",
       "<tr>\n",
       "  <th>Df Model:</th>              <td>     5</td>      <th>                     </th>      <td> </td>    \n",
       "</tr>\n",
       "<tr>\n",
       "  <th>Covariance Type:</th>      <td>nonrobust</td>    <th>                     </th>      <td> </td>    \n",
       "</tr>\n",
       "</table>\n",
       "<table class=\"simpletable\">\n",
       "<tr>\n",
       "        <td></td>          <th>coef</th>     <th>std err</th>      <th>t</th>      <th>P>|t|</th>  <th>[0.025</th>    <th>0.975]</th>  \n",
       "</tr>\n",
       "<tr>\n",
       "  <th>Intercept</th>    <td>    9.9345</td> <td>    0.003</td> <td> 2868.727</td> <td> 0.000</td> <td>    9.928</td> <td>    9.941</td>\n",
       "</tr>\n",
       "<tr>\n",
       "  <th>age</th>          <td>   -0.0086</td> <td> 9.95e-05</td> <td>  -85.930</td> <td> 0.000</td> <td>   -0.009</td> <td>   -0.008</td>\n",
       "</tr>\n",
       "<tr>\n",
       "  <th>vaporfly</th>     <td>   -0.0426</td> <td>    0.001</td> <td>  -31.773</td> <td> 0.000</td> <td>   -0.045</td> <td>   -0.040</td>\n",
       "</tr>\n",
       "<tr>\n",
       "  <th>male</th>         <td>   -0.1296</td> <td>    0.001</td> <td>  -96.756</td> <td> 0.000</td> <td>   -0.132</td> <td>   -0.127</td>\n",
       "</tr>\n",
       "<tr>\n",
       "  <th>seasoned</th>     <td>   -0.0889</td> <td>    0.002</td> <td>  -48.192</td> <td> 0.000</td> <td>   -0.093</td> <td>   -0.085</td>\n",
       "</tr>\n",
       "<tr>\n",
       "  <th>enthusiastic</th> <td>   -0.0548</td> <td>    0.003</td> <td>  -18.125</td> <td> 0.000</td> <td>   -0.061</td> <td>   -0.049</td>\n",
       "</tr>\n",
       "</table>\n",
       "<table class=\"simpletable\">\n",
       "<tr>\n",
       "  <th>Omnibus:</th>       <td>570.884</td> <th>  Durbin-Watson:     </th> <td>   1.993</td> \n",
       "</tr>\n",
       "<tr>\n",
       "  <th>Prob(Omnibus):</th> <td> 0.000</td>  <th>  Jarque-Bera (JB):  </th> <td> 646.028</td> \n",
       "</tr>\n",
       "<tr>\n",
       "  <th>Skew:</th>          <td>-0.341</td>  <th>  Prob(JB):          </th> <td>5.21e-141</td>\n",
       "</tr>\n",
       "<tr>\n",
       "  <th>Kurtosis:</th>      <td> 3.404</td>  <th>  Cond. No.          </th> <td>    186.</td> \n",
       "</tr>\n",
       "</table><br/><br/>Warnings:<br/>[1] Standard Errors assume that the covariance matrix of the errors is correctly specified."
      ],
      "text/plain": [
       "<class 'statsmodels.iolib.summary.Summary'>\n",
       "\"\"\"\n",
       "                            OLS Regression Results                            \n",
       "==============================================================================\n",
       "Dep. Variable:           ln_race_time   R-squared:                       0.464\n",
       "Model:                            OLS   Adj. R-squared:                  0.464\n",
       "Method:                 Least Squares   F-statistic:                     4273.\n",
       "Date:                Tue, 16 Feb 2021   Prob (F-statistic):               0.00\n",
       "Time:                        22:48:48   Log-Likelihood:                 21081.\n",
       "No. Observations:               24699   AIC:                        -4.215e+04\n",
       "Df Residuals:                   24693   BIC:                        -4.210e+04\n",
       "Df Model:                           5                                         \n",
       "Covariance Type:            nonrobust                                         \n",
       "================================================================================\n",
       "                   coef    std err          t      P>|t|      [0.025      0.975]\n",
       "--------------------------------------------------------------------------------\n",
       "Intercept        9.9345      0.003   2868.727      0.000       9.928       9.941\n",
       "age             -0.0086   9.95e-05    -85.930      0.000      -0.009      -0.008\n",
       "vaporfly        -0.0426      0.001    -31.773      0.000      -0.045      -0.040\n",
       "male            -0.1296      0.001    -96.756      0.000      -0.132      -0.127\n",
       "seasoned        -0.0889      0.002    -48.192      0.000      -0.093      -0.085\n",
       "enthusiastic    -0.0548      0.003    -18.125      0.000      -0.061      -0.049\n",
       "==============================================================================\n",
       "Omnibus:                      570.884   Durbin-Watson:                   1.993\n",
       "Prob(Omnibus):                  0.000   Jarque-Bera (JB):              646.028\n",
       "Skew:                          -0.341   Prob(JB):                    5.21e-141\n",
       "Kurtosis:                       3.404   Cond. No.                         186.\n",
       "==============================================================================\n",
       "\n",
       "Warnings:\n",
       "[1] Standard Errors assume that the covariance matrix of the errors is correctly specified.\n",
       "\"\"\""
      ]
     },
     "execution_count": 23,
     "metadata": {},
     "output_type": "execute_result"
    }
   ],
   "source": [
    "# YOUR CODE HERE\n",
    "#Get regression coefficient of omitted variable 'age' on outcome variable race_time: \n",
    "omitted_age =  smf.ols(\"ln_race_time~age+vaporfly+male+seasoned+enthusiastic\", data = data_marathon).fit()\n",
    "omitted_age.summary()\n",
    "#So, here we can see that the coefficient of omittted variable (age) on the outcome is -0.0086. \n",
    "#raise NotImplementedError()"
   ]
  },
  {
   "cell_type": "markdown",
   "metadata": {
    "deletable": false,
    "editable": false,
    "nbgrader": {
     "checksum": "994abf4430da1b1d4da73f6f1f6f8782",
     "grade": false,
     "grade_id": "ManualQuestion2_3",
     "locked": true,
     "schema_version": 1,
     "solution": false
    }
   },
   "source": [
    "Compare the two coefficients in front of the treatment variable vaporfly, what do you observe? Based on your observation, are the results consistent with your previous intuitive analysis of OVB? (2 pts) \n",
    "\n",
    "**Note**: This question will be manually graded."
   ]
  },
  {
   "cell_type": "code",
   "execution_count": 24,
   "metadata": {},
   "outputs": [
    {
     "name": "stdout",
     "output_type": "stream",
     "text": [
      "Bias between short and long regression of the treatment variable: -0.023\n"
     ]
    }
   ],
   "source": [
    "#Estimate bias between short and long regression of the treatment variable 'vaporfly'\n",
    "beta_short = -0.0658\n",
    "beta_long = -0.0426\n",
    "\n",
    "bias = round((beta_short - beta_long),3)\n",
    "\n",
    "print(f\"Bias between short and long regression of the treatment variable: {bias}\")\n"
   ]
  },
  {
   "cell_type": "markdown",
   "metadata": {
    "deletable": false,
    "nbgrader": {
     "checksum": "4d9573ba7f300a6e74d2b0694eaaad5c",
     "grade": true,
     "grade_id": "ManualAnswer2_3",
     "locked": false,
     "points": 0,
     "schema_version": 1,
     "solution": true
    }
   },
   "source": [
    "YOUR ANSWER HERE\n",
    "\n",
    "Yes, I noticed that the results are consistent with my previous intuitive analysis of OVB. This is because when I ran the short and long regression models without and with the omitted variable 'age' respectively , the difference found between the regression coefficients of the treatment variable 'vaporfly' was similar to OVB we had calculated previously by applying the formula. \n",
    "\n",
    "i.e\n",
    "\n",
    "bias = -0.023 \n",
    "\n",
    "OVB = -0.023 "
   ]
  }
 ],
 "metadata": {
  "coursera": {
   "schema_names": [
    "mads_causal_inference_v1_assignment2"
   ]
  },
  "kernelspec": {
   "display_name": "Python 3",
   "language": "python",
   "name": "python3"
  },
  "language_info": {
   "codemirror_mode": {
    "name": "ipython",
    "version": 3
   },
   "file_extension": ".py",
   "mimetype": "text/x-python",
   "name": "python",
   "nbconvert_exporter": "python",
   "pygments_lexer": "ipython3",
   "version": "3.7.3"
  }
 },
 "nbformat": 4,
 "nbformat_minor": 2
}
