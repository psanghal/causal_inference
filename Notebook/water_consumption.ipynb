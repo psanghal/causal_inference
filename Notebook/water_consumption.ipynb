{
 "cells": [
  {
   "cell_type": "markdown",
   "metadata": {
    "deletable": false,
    "editable": false,
    "nbgrader": {
     "checksum": "fe5dc1e0d142944bc543979de2338b56",
     "grade": false,
     "grade_id": "cell-8b8d677d208f3db9",
     "locked": true,
     "schema_version": 1,
     "solution": false
    }
   },
   "source": [
    "### Week 2"
   ]
  },
  {
   "cell_type": "markdown",
   "metadata": {
    "deletable": false,
    "editable": false,
    "nbgrader": {
     "checksum": "798fb881678f519ee1df5b9418995304",
     "grade": false,
     "grade_id": "cell-4271d7fe6871bd66",
     "locked": true,
     "schema_version": 1,
     "solution": false
    }
   },
   "source": [
    "## Background\n",
    "In this assignment, we will explore the treatment effects reported in Ferraro and Price (2013) from two perspectives. We shall answer the following two questions:\n",
    "1. Does the treatment effect persist over time?\n",
    "2. Are there heterogeneous treatment effects? If so, by which observable?\n",
    "\n",
    "To make it easier to discuss the timeline, let's start with the following quote from Ferraro and Price (2013):\n",
    "\n",
    "> \"... the three treatment mailings were sent out on the same day during the week of May 21, 2007 ... by ﬁrst-class mail in ofﬁcial CCWS envelopes \"\n",
    "\n",
    "It should be safe to assume that June 2007 is the first month post intervention."
   ]
  },
  {
   "cell_type": "markdown",
   "metadata": {
    "deletable": false,
    "editable": false,
    "nbgrader": {
     "checksum": "c421922d95f6b37398fda33b65f8bce4",
     "grade": false,
     "grade_id": "cell-d2702ea635b21e8b",
     "locked": true,
     "schema_version": 1,
     "solution": false
    }
   },
   "source": [
    "### Data description\n",
    "This week, we will work with the dataset from Ferraro and Price (2013). In the dataset, each row represents one household in the experiment. The variables are labeled as the followings:\n",
    "* `prem`: index of the household\n",
    "* `treatment`: value 1 through 3 denotes the three treatment conditions, and value 4 denotes the control group.\n",
    "* `treat1`, `treat2` and `treat3`: these are binary variables indicating the exact treatment condition.\n",
    "* `jun06` ... `oct07`: these are water consumption for a given month, in thousands of gallons.\n",
    "* `percent_report`: percentile for summer 2006 consumption amongst all households in Cobb County (the population, or the \"universe\")."
   ]
  },
  {
   "cell_type": "code",
   "execution_count": 1,
   "metadata": {
    "deletable": false,
    "editable": false,
    "nbgrader": {
     "checksum": "06c90911d5a10dce83253364e785e437",
     "grade": false,
     "grade_id": "cell-83dcc538e5fd8e5f",
     "locked": true,
     "schema_version": 1,
     "solution": false
    }
   },
   "outputs": [],
   "source": [
    "# Load the needed libraries\n",
    "import pandas as pd\n",
    "import statsmodels.formula.api as smf\n",
    "from stargazer.stargazer import Stargazer\n",
    "\n",
    "# Load the data\n",
    "a2 = pd.read_csv('assets/assignment2.csv')"
   ]
  },
  {
   "cell_type": "code",
   "execution_count": 2,
   "metadata": {},
   "outputs": [
    {
     "data": {
      "text/html": [
       "<div>\n",
       "<style scoped>\n",
       "    .dataframe tbody tr th:only-of-type {\n",
       "        vertical-align: middle;\n",
       "    }\n",
       "\n",
       "    .dataframe tbody tr th {\n",
       "        vertical-align: top;\n",
       "    }\n",
       "\n",
       "    .dataframe thead th {\n",
       "        text-align: right;\n",
       "    }\n",
       "</style>\n",
       "<table border=\"1\" class=\"dataframe\">\n",
       "  <thead>\n",
       "    <tr style=\"text-align: right;\">\n",
       "      <th></th>\n",
       "      <th>prem</th>\n",
       "      <th>route</th>\n",
       "      <th>treatment</th>\n",
       "      <th>treat1</th>\n",
       "      <th>treat2</th>\n",
       "      <th>treat3</th>\n",
       "      <th>jun06</th>\n",
       "      <th>jul06</th>\n",
       "      <th>aug06</th>\n",
       "      <th>sep06</th>\n",
       "      <th>...</th>\n",
       "      <th>feb07</th>\n",
       "      <th>mar07</th>\n",
       "      <th>apr07</th>\n",
       "      <th>may07</th>\n",
       "      <th>jun07</th>\n",
       "      <th>jul07</th>\n",
       "      <th>aug07</th>\n",
       "      <th>sep07</th>\n",
       "      <th>oct07</th>\n",
       "      <th>percent_report</th>\n",
       "    </tr>\n",
       "  </thead>\n",
       "  <tbody>\n",
       "    <tr>\n",
       "      <th>0</th>\n",
       "      <td>100004</td>\n",
       "      <td>909</td>\n",
       "      <td>4.0</td>\n",
       "      <td>0.0</td>\n",
       "      <td>0.0</td>\n",
       "      <td>0.0</td>\n",
       "      <td>3</td>\n",
       "      <td>4</td>\n",
       "      <td>6</td>\n",
       "      <td>7</td>\n",
       "      <td>...</td>\n",
       "      <td>8.0</td>\n",
       "      <td>4</td>\n",
       "      <td>5.0</td>\n",
       "      <td>6.0</td>\n",
       "      <td>5.0</td>\n",
       "      <td>5.0</td>\n",
       "      <td>5.0</td>\n",
       "      <td>6.0</td>\n",
       "      <td>4.0</td>\n",
       "      <td>36.0</td>\n",
       "    </tr>\n",
       "    <tr>\n",
       "      <th>1</th>\n",
       "      <td>100101</td>\n",
       "      <td>502</td>\n",
       "      <td>4.0</td>\n",
       "      <td>0.0</td>\n",
       "      <td>0.0</td>\n",
       "      <td>0.0</td>\n",
       "      <td>14</td>\n",
       "      <td>20</td>\n",
       "      <td>13</td>\n",
       "      <td>12</td>\n",
       "      <td>...</td>\n",
       "      <td>9.0</td>\n",
       "      <td>8</td>\n",
       "      <td>9.0</td>\n",
       "      <td>17.0</td>\n",
       "      <td>2.0</td>\n",
       "      <td>5.0</td>\n",
       "      <td>3.0</td>\n",
       "      <td>8.0</td>\n",
       "      <td>4.0</td>\n",
       "      <td>84.0</td>\n",
       "    </tr>\n",
       "    <tr>\n",
       "      <th>2</th>\n",
       "      <td>100102</td>\n",
       "      <td>502</td>\n",
       "      <td>1.0</td>\n",
       "      <td>1.0</td>\n",
       "      <td>0.0</td>\n",
       "      <td>0.0</td>\n",
       "      <td>65</td>\n",
       "      <td>23</td>\n",
       "      <td>21</td>\n",
       "      <td>8</td>\n",
       "      <td>...</td>\n",
       "      <td>5.0</td>\n",
       "      <td>4</td>\n",
       "      <td>4.0</td>\n",
       "      <td>4.0</td>\n",
       "      <td>8.0</td>\n",
       "      <td>5.0</td>\n",
       "      <td>6.0</td>\n",
       "      <td>5.0</td>\n",
       "      <td>8.0</td>\n",
       "      <td>95.0</td>\n",
       "    </tr>\n",
       "    <tr>\n",
       "      <th>3</th>\n",
       "      <td>100103</td>\n",
       "      <td>502</td>\n",
       "      <td>4.0</td>\n",
       "      <td>0.0</td>\n",
       "      <td>0.0</td>\n",
       "      <td>0.0</td>\n",
       "      <td>6</td>\n",
       "      <td>4</td>\n",
       "      <td>4</td>\n",
       "      <td>5</td>\n",
       "      <td>...</td>\n",
       "      <td>7.0</td>\n",
       "      <td>6</td>\n",
       "      <td>5.0</td>\n",
       "      <td>4.0</td>\n",
       "      <td>7.0</td>\n",
       "      <td>6.0</td>\n",
       "      <td>6.0</td>\n",
       "      <td>7.0</td>\n",
       "      <td>6.0</td>\n",
       "      <td>34.0</td>\n",
       "    </tr>\n",
       "    <tr>\n",
       "      <th>4</th>\n",
       "      <td>100105</td>\n",
       "      <td>502</td>\n",
       "      <td>4.0</td>\n",
       "      <td>0.0</td>\n",
       "      <td>0.0</td>\n",
       "      <td>0.0</td>\n",
       "      <td>4</td>\n",
       "      <td>23</td>\n",
       "      <td>33</td>\n",
       "      <td>20</td>\n",
       "      <td>...</td>\n",
       "      <td>6.0</td>\n",
       "      <td>4</td>\n",
       "      <td>5.0</td>\n",
       "      <td>6.0</td>\n",
       "      <td>10.0</td>\n",
       "      <td>15.0</td>\n",
       "      <td>8.0</td>\n",
       "      <td>15.0</td>\n",
       "      <td>12.0</td>\n",
       "      <td>91.0</td>\n",
       "    </tr>\n",
       "  </tbody>\n",
       "</table>\n",
       "<p>5 rows × 24 columns</p>\n",
       "</div>"
      ],
      "text/plain": [
       "     prem  route  treatment  treat1  treat2  treat3  jun06  jul06  aug06  \\\n",
       "0  100004    909        4.0     0.0     0.0     0.0      3      4      6   \n",
       "1  100101    502        4.0     0.0     0.0     0.0     14     20     13   \n",
       "2  100102    502        1.0     1.0     0.0     0.0     65     23     21   \n",
       "3  100103    502        4.0     0.0     0.0     0.0      6      4      4   \n",
       "4  100105    502        4.0     0.0     0.0     0.0      4     23     33   \n",
       "\n",
       "   sep06  ...  feb07  mar07  apr07  may07  jun07  jul07  aug07  sep07  oct07  \\\n",
       "0      7  ...    8.0      4    5.0    6.0    5.0    5.0    5.0    6.0    4.0   \n",
       "1     12  ...    9.0      8    9.0   17.0    2.0    5.0    3.0    8.0    4.0   \n",
       "2      8  ...    5.0      4    4.0    4.0    8.0    5.0    6.0    5.0    8.0   \n",
       "3      5  ...    7.0      6    5.0    4.0    7.0    6.0    6.0    7.0    6.0   \n",
       "4     20  ...    6.0      4    5.0    6.0   10.0   15.0    8.0   15.0   12.0   \n",
       "\n",
       "   percent_report  \n",
       "0            36.0  \n",
       "1            84.0  \n",
       "2            95.0  \n",
       "3            34.0  \n",
       "4            91.0  \n",
       "\n",
       "[5 rows x 24 columns]"
      ]
     },
     "execution_count": 2,
     "metadata": {},
     "output_type": "execute_result"
    }
   ],
   "source": [
    "a2.head()"
   ]
  },
  {
   "cell_type": "code",
   "execution_count": 3,
   "metadata": {},
   "outputs": [
    {
     "data": {
      "text/plain": [
       "Index(['prem', 'route', 'treatment', 'treat1', 'treat2', 'treat3', 'jun06',\n",
       "       'jul06', 'aug06', 'sep06', 'oct06', 'nov06', 'dec06', 'jan07', 'feb07',\n",
       "       'mar07', 'apr07', 'may07', 'jun07', 'jul07', 'aug07', 'sep07', 'oct07',\n",
       "       'percent_report'],\n",
       "      dtype='object')"
      ]
     },
     "execution_count": 3,
     "metadata": {},
     "output_type": "execute_result"
    }
   ],
   "source": [
    "a2.columns"
   ]
  },
  {
   "cell_type": "markdown",
   "metadata": {},
   "source": [
    "## "
   ]
  },
  {
   "cell_type": "markdown",
   "metadata": {
    "deletable": false,
    "editable": false,
    "nbgrader": {
     "checksum": "f96437ce42d0568bfb05cb58d25bf248",
     "grade": false,
     "grade_id": "cell-dec15691c090d983",
     "locked": true,
     "schema_version": 1,
     "solution": false
    }
   },
   "source": [
    "## Question 1: Visual representation of water consumption (5pts)\n",
    "Given the monthly water consumption between June 2006 and October 2007 in the dataframe `a2`, use a \"geometry\" of your choice to plot the water consumptions for this time frame. You are free to choose as many facets as you would like. Please make sure to include the following in your plot:\n",
    "1. Among all housholds, how are average water consumptions changing over the months? (2pts)\n",
    "2. Then, for households in each treatment condition, plot the mean water consumption over the months individually. (2pts)\n",
    "\n",
    "Lastly, briefly summarize the bifurcation that took place starting in June 2007. (1pt)\n",
    "\n",
    "\n",
    "**Note**, this question will be manually graded. Please render your plot object in the body of this notebook. (Hint: you may select the relevant dataframe and apply `df_relevant.plot.line()` to reveal the plot. This is the simplest plot we expect for this question.)"
   ]
  },
  {
   "cell_type": "markdown",
   "metadata": {},
   "source": [
    "### Testing:"
   ]
  },
  {
   "cell_type": "code",
   "execution_count": 4,
   "metadata": {},
   "outputs": [],
   "source": [
    "# Load packages: \n",
    "import altair as alt"
   ]
  },
  {
   "cell_type": "code",
   "execution_count": 5,
   "metadata": {},
   "outputs": [
    {
     "data": {
      "text/plain": [
       "DataTransformerRegistry.enable('json')"
      ]
     },
     "execution_count": 5,
     "metadata": {},
     "output_type": "execute_result"
    }
   ],
   "source": [
    "# enable correct rendering (unnecessary in later versions of Altair)\n",
    "alt.renderers.enable('default')\n",
    "# uses intermediate json files to speed things up\n",
    "alt.data_transformers.enable('json')"
   ]
  },
  {
   "cell_type": "code",
   "execution_count": 6,
   "metadata": {},
   "outputs": [],
   "source": [
    "# Melt dataframe for monthyear:\n",
    "a2_melt = pd.melt(id_vars = ['prem', 'route', 'percent_report', 'treat1', 'treat2', 'treat3', 'treatment'], \n",
    "                    frame= a2,\n",
    "                    var_name='monthyear',\n",
    "                    value_name='water_consumption')\n",
    "\n"
   ]
  },
  {
   "cell_type": "code",
   "execution_count": 7,
   "metadata": {},
   "outputs": [
    {
     "data": {
      "text/html": [
       "<div>\n",
       "<style scoped>\n",
       "    .dataframe tbody tr th:only-of-type {\n",
       "        vertical-align: middle;\n",
       "    }\n",
       "\n",
       "    .dataframe tbody tr th {\n",
       "        vertical-align: top;\n",
       "    }\n",
       "\n",
       "    .dataframe thead th {\n",
       "        text-align: right;\n",
       "    }\n",
       "</style>\n",
       "<table border=\"1\" class=\"dataframe\">\n",
       "  <thead>\n",
       "    <tr style=\"text-align: right;\">\n",
       "      <th></th>\n",
       "      <th>prem</th>\n",
       "      <th>route</th>\n",
       "      <th>percent_report</th>\n",
       "      <th>treat1</th>\n",
       "      <th>treat2</th>\n",
       "      <th>treat3</th>\n",
       "      <th>treatment</th>\n",
       "      <th>monthyear</th>\n",
       "      <th>water_consumption</th>\n",
       "    </tr>\n",
       "  </thead>\n",
       "  <tbody>\n",
       "    <tr>\n",
       "      <th>0</th>\n",
       "      <td>100004</td>\n",
       "      <td>909</td>\n",
       "      <td>36.0</td>\n",
       "      <td>0.0</td>\n",
       "      <td>0.0</td>\n",
       "      <td>0.0</td>\n",
       "      <td>4.0</td>\n",
       "      <td>jun06</td>\n",
       "      <td>3.0</td>\n",
       "    </tr>\n",
       "    <tr>\n",
       "      <th>1</th>\n",
       "      <td>100101</td>\n",
       "      <td>502</td>\n",
       "      <td>84.0</td>\n",
       "      <td>0.0</td>\n",
       "      <td>0.0</td>\n",
       "      <td>0.0</td>\n",
       "      <td>4.0</td>\n",
       "      <td>jun06</td>\n",
       "      <td>14.0</td>\n",
       "    </tr>\n",
       "    <tr>\n",
       "      <th>2</th>\n",
       "      <td>100102</td>\n",
       "      <td>502</td>\n",
       "      <td>95.0</td>\n",
       "      <td>1.0</td>\n",
       "      <td>0.0</td>\n",
       "      <td>0.0</td>\n",
       "      <td>1.0</td>\n",
       "      <td>jun06</td>\n",
       "      <td>65.0</td>\n",
       "    </tr>\n",
       "    <tr>\n",
       "      <th>3</th>\n",
       "      <td>100103</td>\n",
       "      <td>502</td>\n",
       "      <td>34.0</td>\n",
       "      <td>0.0</td>\n",
       "      <td>0.0</td>\n",
       "      <td>0.0</td>\n",
       "      <td>4.0</td>\n",
       "      <td>jun06</td>\n",
       "      <td>6.0</td>\n",
       "    </tr>\n",
       "    <tr>\n",
       "      <th>4</th>\n",
       "      <td>100105</td>\n",
       "      <td>502</td>\n",
       "      <td>91.0</td>\n",
       "      <td>0.0</td>\n",
       "      <td>0.0</td>\n",
       "      <td>0.0</td>\n",
       "      <td>4.0</td>\n",
       "      <td>jun06</td>\n",
       "      <td>4.0</td>\n",
       "    </tr>\n",
       "  </tbody>\n",
       "</table>\n",
       "</div>"
      ],
      "text/plain": [
       "     prem  route  percent_report  treat1  treat2  treat3  treatment monthyear  \\\n",
       "0  100004    909            36.0     0.0     0.0     0.0        4.0     jun06   \n",
       "1  100101    502            84.0     0.0     0.0     0.0        4.0     jun06   \n",
       "2  100102    502            95.0     1.0     0.0     0.0        1.0     jun06   \n",
       "3  100103    502            34.0     0.0     0.0     0.0        4.0     jun06   \n",
       "4  100105    502            91.0     0.0     0.0     0.0        4.0     jun06   \n",
       "\n",
       "   water_consumption  \n",
       "0                3.0  \n",
       "1               14.0  \n",
       "2               65.0  \n",
       "3                6.0  \n",
       "4                4.0  "
      ]
     },
     "execution_count": 7,
     "metadata": {},
     "output_type": "execute_result"
    }
   ],
   "source": [
    "a2_melt.head()"
   ]
  },
  {
   "cell_type": "markdown",
   "metadata": {},
   "source": [
    "### Implementing:"
   ]
  },
  {
   "cell_type": "code",
   "execution_count": 8,
   "metadata": {
    "deletable": false,
    "nbgrader": {
     "checksum": "5070723b8a03214303f4faf1c1fee88f",
     "grade": true,
     "grade_id": "cell-a059a0f29cc5a2b6",
     "locked": false,
     "points": 0,
     "schema_version": 1,
     "solution": true
    }
   },
   "outputs": [
    {
     "data": {
      "text/html": [
       "\n",
       "<div id=\"altair-viz-87dbb9c3f49c4ca2954db363909cb7f0\"></div>\n",
       "<script type=\"text/javascript\">\n",
       "  (function(spec, embedOpt){\n",
       "    let outputDiv = document.currentScript.previousElementSibling;\n",
       "    if (outputDiv.id !== \"altair-viz-87dbb9c3f49c4ca2954db363909cb7f0\") {\n",
       "      outputDiv = document.getElementById(\"altair-viz-87dbb9c3f49c4ca2954db363909cb7f0\");\n",
       "    }\n",
       "    const paths = {\n",
       "      \"vega\": \"https://cdn.jsdelivr.net/npm//vega@5?noext\",\n",
       "      \"vega-lib\": \"https://cdn.jsdelivr.net/npm//vega-lib?noext\",\n",
       "      \"vega-lite\": \"https://cdn.jsdelivr.net/npm//vega-lite@4.8.1?noext\",\n",
       "      \"vega-embed\": \"https://cdn.jsdelivr.net/npm//vega-embed@6?noext\",\n",
       "    };\n",
       "\n",
       "    function loadScript(lib) {\n",
       "      return new Promise(function(resolve, reject) {\n",
       "        var s = document.createElement('script');\n",
       "        s.src = paths[lib];\n",
       "        s.async = true;\n",
       "        s.onload = () => resolve(paths[lib]);\n",
       "        s.onerror = () => reject(`Error loading script: ${paths[lib]}`);\n",
       "        document.getElementsByTagName(\"head\")[0].appendChild(s);\n",
       "      });\n",
       "    }\n",
       "\n",
       "    function showError(err) {\n",
       "      outputDiv.innerHTML = `<div class=\"error\" style=\"color:red;\">${err}</div>`;\n",
       "      throw err;\n",
       "    }\n",
       "\n",
       "    function displayChart(vegaEmbed) {\n",
       "      vegaEmbed(outputDiv, spec, embedOpt)\n",
       "        .catch(err => showError(`Javascript Error: ${err.message}<br>This usually means there's a typo in your chart specification. See the javascript console for the full traceback.`));\n",
       "    }\n",
       "\n",
       "    if(typeof define === \"function\" && define.amd) {\n",
       "      requirejs.config({paths});\n",
       "      require([\"vega-embed\"], displayChart, err => showError(`Error loading script: ${err.message}`));\n",
       "    } else if (typeof vegaEmbed === \"function\") {\n",
       "      displayChart(vegaEmbed);\n",
       "    } else {\n",
       "      loadScript(\"vega\")\n",
       "        .then(() => loadScript(\"vega-lite\"))\n",
       "        .then(() => loadScript(\"vega-embed\"))\n",
       "        .catch(showError)\n",
       "        .then(() => displayChart(vegaEmbed));\n",
       "    }\n",
       "  })({\"config\": {\"view\": {\"continuousWidth\": 400, \"continuousHeight\": 300}}, \"layer\": [{\"mark\": \"line\", \"encoding\": {\"x\": {\"type\": \"nominal\", \"field\": \"monthyear\", \"sort\": [\"jun06\", \"jul06\", \"aug06\", \"sep06\", \"oct06\", \"nov06\", \"dec06\", \"jan07\", \"feb07\", \"mar07\", \"apr07\", \"may07\", \"jun07\", \"jul07\", \"aug07\", \"sep07\", \"oct07\"]}, \"y\": {\"type\": \"quantitative\", \"axis\": {\"title\": \"average_water_consumption\"}, \"field\": \"water_consumption\"}}, \"width\": 600}, {\"mark\": \"circle\", \"encoding\": {\"tooltip\": [{\"type\": \"nominal\", \"field\": \"monthyear\"}, {\"type\": \"quantitative\", \"field\": \"water_consumption\", \"format\": \".2f\", \"title\": \"average consumption\"}], \"x\": {\"type\": \"nominal\", \"field\": \"monthyear\", \"sort\": [\"jun06\", \"jul06\", \"aug06\", \"sep06\", \"oct06\", \"nov06\", \"dec06\", \"jan07\", \"feb07\", \"mar07\", \"apr07\", \"may07\", \"jun07\", \"jul07\", \"aug07\", \"sep07\", \"oct07\"]}, \"y\": {\"type\": \"quantitative\", \"field\": \"water_consumption\"}}, \"title\": \"Average Water Consumption by Month\", \"width\": 600}], \"data\": {\"url\": \"altair-data-4844f4a2d2be31bc067ae2bbe5133a1b.json\", \"format\": {\"type\": \"json\"}}, \"$schema\": \"https://vega.github.io/schema/vega-lite/v4.8.1.json\"}, {\"mode\": \"vega-lite\"});\n",
       "</script>"
      ],
      "text/plain": [
       "alt.LayerChart(...)"
      ]
     },
     "execution_count": 8,
     "metadata": {},
     "output_type": "execute_result"
    }
   ],
   "source": [
    "# Q1-1: plot and render the average water consumption over the months\n",
    "# You may find the following column names helpful: \n",
    "sort_months = ['jun06', 'jul06', 'aug06', 'sep06', 'oct06', 'nov06', 'dec06',  'jan07', 'feb07', 'mar07', 'apr07', 'may07', 'jun07', 'jul07', 'aug07', 'sep07', 'oct07']\n",
    "\n",
    "\n",
    "# YOUR CODE HERE\n",
    "# Melt dataframe for monthyear:\n",
    "a2_melt = pd.melt(id_vars = ['prem', 'route', 'percent_report', 'treat1', 'treat2', 'treat3', 'treatment'], \n",
    "                    frame= a2,\n",
    "                    var_name='monthyear',\n",
    "                    value_name='water_consumption')\n",
    "\n",
    "# Average consumption of water by months: \n",
    "mean_water_consumption = a2_melt.groupby('monthyear').agg({'water_consumption':'mean'}).reset_index()\n",
    "\n",
    "# Plot average water consumption: \n",
    "line = (alt.Chart(mean_water_consumption)\n",
    "                            .mark_line()\n",
    "                            .encode(x = alt.X('monthyear', sort = sort_months),\n",
    "                                    y = alt.Y('water_consumption:Q',  axis = alt.Axis(title = 'average_water_consumption')))\n",
    "                            .properties(width = 600))\n",
    "\n",
    "dot = (alt.Chart(mean_water_consumption)\n",
    "                            .mark_circle()\n",
    "                            .encode(x = alt.X('monthyear', sort = sort_months),\n",
    "                                    y = alt.Y('water_consumption:Q'), tooltip = ['monthyear' , alt.Tooltip('water_consumption:Q', format = '.2f', title= 'average consumption')])\n",
    "                            .properties(width = 600, title='Average Water Consumption by Month'))\n",
    "\n",
    "\n",
    "\n",
    "plot_average_consumption = line+dot\n",
    "        \n",
    "plot_average_consumption\n",
    "#raise NotImplementedError()"
   ]
  },
  {
   "cell_type": "code",
   "execution_count": 9,
   "metadata": {
    "deletable": false,
    "nbgrader": {
     "checksum": "b52bdb018529dcee61bd2a8c070829de",
     "grade": true,
     "grade_id": "cell-800d8ca5fa7f78c0",
     "locked": false,
     "points": 0,
     "schema_version": 1,
     "solution": true
    }
   },
   "outputs": [
    {
     "data": {
      "text/html": [
       "\n",
       "<div id=\"altair-viz-2e5791846d4f47b1a45643f13209fc0e\"></div>\n",
       "<script type=\"text/javascript\">\n",
       "  (function(spec, embedOpt){\n",
       "    let outputDiv = document.currentScript.previousElementSibling;\n",
       "    if (outputDiv.id !== \"altair-viz-2e5791846d4f47b1a45643f13209fc0e\") {\n",
       "      outputDiv = document.getElementById(\"altair-viz-2e5791846d4f47b1a45643f13209fc0e\");\n",
       "    }\n",
       "    const paths = {\n",
       "      \"vega\": \"https://cdn.jsdelivr.net/npm//vega@5?noext\",\n",
       "      \"vega-lib\": \"https://cdn.jsdelivr.net/npm//vega-lib?noext\",\n",
       "      \"vega-lite\": \"https://cdn.jsdelivr.net/npm//vega-lite@4.8.1?noext\",\n",
       "      \"vega-embed\": \"https://cdn.jsdelivr.net/npm//vega-embed@6?noext\",\n",
       "    };\n",
       "\n",
       "    function loadScript(lib) {\n",
       "      return new Promise(function(resolve, reject) {\n",
       "        var s = document.createElement('script');\n",
       "        s.src = paths[lib];\n",
       "        s.async = true;\n",
       "        s.onload = () => resolve(paths[lib]);\n",
       "        s.onerror = () => reject(`Error loading script: ${paths[lib]}`);\n",
       "        document.getElementsByTagName(\"head\")[0].appendChild(s);\n",
       "      });\n",
       "    }\n",
       "\n",
       "    function showError(err) {\n",
       "      outputDiv.innerHTML = `<div class=\"error\" style=\"color:red;\">${err}</div>`;\n",
       "      throw err;\n",
       "    }\n",
       "\n",
       "    function displayChart(vegaEmbed) {\n",
       "      vegaEmbed(outputDiv, spec, embedOpt)\n",
       "        .catch(err => showError(`Javascript Error: ${err.message}<br>This usually means there's a typo in your chart specification. See the javascript console for the full traceback.`));\n",
       "    }\n",
       "\n",
       "    if(typeof define === \"function\" && define.amd) {\n",
       "      requirejs.config({paths});\n",
       "      require([\"vega-embed\"], displayChart, err => showError(`Error loading script: ${err.message}`));\n",
       "    } else if (typeof vegaEmbed === \"function\") {\n",
       "      displayChart(vegaEmbed);\n",
       "    } else {\n",
       "      loadScript(\"vega\")\n",
       "        .then(() => loadScript(\"vega-lite\"))\n",
       "        .then(() => loadScript(\"vega-embed\"))\n",
       "        .catch(showError)\n",
       "        .then(() => displayChart(vegaEmbed));\n",
       "    }\n",
       "  })({\"config\": {\"view\": {\"continuousWidth\": 400, \"continuousHeight\": 300}}, \"layer\": [{\"mark\": \"line\", \"encoding\": {\"color\": {\"type\": \"ordinal\", \"field\": \"treatment\", \"scale\": {\"scheme\": \"cividis\"}}, \"x\": {\"type\": \"nominal\", \"field\": \"monthyear\", \"sort\": [\"jun06\", \"jul06\", \"aug06\", \"sep06\", \"oct06\", \"nov06\", \"dec06\", \"jan07\", \"feb07\", \"mar07\", \"apr07\", \"may07\", \"jun07\", \"jul07\", \"aug07\", \"sep07\", \"oct07\"]}, \"y\": {\"type\": \"quantitative\", \"axis\": {\"title\": \"average_water_consumption\"}, \"field\": \"water_consumption\"}}, \"width\": 600}, {\"mark\": \"circle\", \"encoding\": {\"color\": {\"type\": \"nominal\", \"field\": \"treatment\"}, \"tooltip\": [{\"type\": \"ordinal\", \"field\": \"treatment\"}, {\"type\": \"nominal\", \"field\": \"monthyear\"}, {\"type\": \"quantitative\", \"field\": \"water_consumption\", \"format\": \".2f\", \"title\": \"average consumption\"}], \"x\": {\"type\": \"nominal\", \"field\": \"monthyear\", \"sort\": [\"jun06\", \"jul06\", \"aug06\", \"sep06\", \"oct06\", \"nov06\", \"dec06\", \"jan07\", \"feb07\", \"mar07\", \"apr07\", \"may07\", \"jun07\", \"jul07\", \"aug07\", \"sep07\", \"oct07\"]}, \"y\": {\"type\": \"quantitative\", \"field\": \"water_consumption\"}}, \"title\": \"Average Water Consumption by Month and Treatment\", \"width\": 600}], \"data\": {\"url\": \"altair-data-6e773ada5240ff5aec7ae65770ca7488.json\", \"format\": {\"type\": \"json\"}}, \"$schema\": \"https://vega.github.io/schema/vega-lite/v4.8.1.json\"}, {\"mode\": \"vega-lite\"});\n",
       "</script>"
      ],
      "text/plain": [
       "alt.LayerChart(...)"
      ]
     },
     "execution_count": 9,
     "metadata": {},
     "output_type": "execute_result"
    }
   ],
   "source": [
    "# Q1-2: plot and render the average water consumption for each treatment condition (including the control) over the months\n",
    "\n",
    "# YOUR CODE HERE\n",
    "sort_months = ['jun06', 'jul06', 'aug06', 'sep06', 'oct06', 'nov06', 'dec06',  'jan07', 'feb07', 'mar07', 'apr07', 'may07', 'jun07', 'jul07', 'aug07', 'sep07', 'oct07']\n",
    "\n",
    "\n",
    "# YOUR CODE HERE\n",
    "\n",
    "# Average consumption of water by months and treatment: \n",
    "mean_water_consumption_treatment = a2_melt.groupby(['monthyear', 'treatment']).agg({'water_consumption':'mean'}).reset_index()\n",
    "\n",
    "# Plot average water consumption: \n",
    "line_2 = (alt.Chart(mean_water_consumption_treatment)\n",
    "                            .mark_line()\n",
    "                            .encode(x = alt.X('monthyear', sort = sort_months),\n",
    "                                    y = alt.Y('water_consumption:Q',  axis = alt.Axis(title = 'average_water_consumption')), color = alt.Color('treatment:O', scale= alt.Scale(scheme = 'cividis')))\n",
    "                            .properties(width = 600))\n",
    "\n",
    "dot_2 = (alt.Chart(mean_water_consumption_treatment)\n",
    "                            .mark_circle()\n",
    "                            .encode(x = alt.X('monthyear', sort = sort_months),\n",
    "                                    y = alt.Y('water_consumption:Q'), \n",
    "                                    color=alt.Color('treatment:N'),\n",
    "                                    tooltip = ['treatment:O','monthyear' , alt.Tooltip('water_consumption:Q', format = '.2f', title= 'average consumption')])\n",
    "                            .properties(width = 600, title='Average Water Consumption by Month and Treatment'))\n",
    "\n",
    "\n",
    "\n",
    "plot_average_consumption_treatment = line_2+dot_2\n",
    "plot_average_consumption_treatment\n",
    "#raise NotImplementedError()"
   ]
  },
  {
   "cell_type": "markdown",
   "metadata": {
    "deletable": false,
    "editable": false,
    "nbgrader": {
     "checksum": "376cb217fe68ce48a8b3c27936c39a38",
     "grade": false,
     "grade_id": "cell-c2c35075c636baaa",
     "locked": true,
     "schema_version": 1,
     "solution": false
    }
   },
   "source": [
    "Briefly summarize the bifurcation that took place starting in June 2007. (1pt)"
   ]
  },
  {
   "cell_type": "markdown",
   "metadata": {
    "deletable": false,
    "nbgrader": {
     "checksum": "038c85340c3c295d30706c10f952490d",
     "grade": true,
     "grade_id": "cell-915ffa605eb78fe9",
     "locked": false,
     "points": 0,
     "schema_version": 1,
     "solution": true
    }
   },
   "source": [
    "YOUR ANSWER HERE\n",
    "\n",
    "As we can see from the above chart, since Feb 2007, average water consumption has been steadily going up until June 2007, as a result it seems 3 treatment letters had to be sent out in the mail on May 21, 2007 which resulted in bifurcation in the month of June 2007, showing decline in the average water consumption thereafter, for each 3 treatments and the control group. However, treatment 3 seems to have the most decline compared to the rest, which can be seen in the above plot by hovering over the point for the month of Oct 2007. Now, we should also look at average treatment effect for each treatment. "
   ]
  },
  {
   "cell_type": "markdown",
   "metadata": {
    "deletable": false,
    "editable": false,
    "nbgrader": {
     "checksum": "50d5051499809af88d9ac1590e2efb9b",
     "grade": false,
     "grade_id": "cell-dfc7249f4de9cf51",
     "locked": true,
     "schema_version": 1,
     "solution": false
    }
   },
   "source": [
    "## Question 2: Estimate the treatment effect \"over time\" (6pts)\n",
    "1. Estimate the treatment effect based on water consumption for each month _post intervention_, and keep track of the treatment effect estimates by building a Stargazer table called `Q2_table`. (3pts)\n",
    "2. Plot how effect sizes are changing over the months that followed the intervention. Namely, plot the effect size on the y-axis for each relevant month as indicated on the x-axis. Make sure to distinguish the three treatment conditions in your plot. (2pts)\n",
    "3. Lastly, briefly summarize how treatment effects changes over time. (1pt)\n",
    "\n",
    "\n",
    "----\n",
    "\n",
    "**Clarification**: It is safe to assume that the first month _post intervention_ is June 2007. For each month, consider the water consumption of the month as the outcome variable. The average treatment effect can be estimated by comparing the difference in means of water consumption in each treatment condition against the mean for the control group (treatment=4). Technically, it is safe to directly employ an OLS regression with treatment dummies and read off the coefficients for each treatment dummy as the treatment effect (of the month).\n",
    "\n",
    "**Additional technical notes**: Since we are trying to get an estimate for the treatemnt effect for each month, it helps to control for the water consumption for the month from the previous year. When specifying your OLS regresion, make sure to include the water consumption for the same month from the previous year as a covariate."
   ]
  },
  {
   "cell_type": "code",
   "execution_count": 10,
   "metadata": {
    "deletable": false,
    "nbgrader": {
     "checksum": "e79504c3584c0a7ed1610b69a64d901a",
     "grade": false,
     "grade_id": "cell-237b6d6c865ddd22",
     "locked": false,
     "schema_version": 1,
     "solution": true
    }
   },
   "outputs": [],
   "source": [
    "# You can use the following list of months as a starting point.\n",
    "months_after_treatment = ['jun07', 'jul07', 'aug07', 'sep07', 'oct07']\n",
    "\n",
    "# Q2-1: run an OLS regression for each month and store all models sequentially as a Stargazer object.\n",
    "# Please name your table as `Q2_table`.\n",
    "    # Hint 1 - To produce a better estimate for the treatment effect for each\n",
    "    # month, make sure to include the monthly water usage from 2006.\n",
    "    # Hint 2 - It helps to render the full regression table and adjust its\n",
    "    # covariates properly. This will help you to reason through Q2-2.\n",
    "    # Note, you don't need to cluster the standard errors here.\n",
    "\n",
    "# YOUR CODE HERE\n",
    "# Use OLS to figure out what happens when we apply 3 different treatments to control months as per below\n",
    "# fot model\n",
    "model_june = smf.ols('jun07~jun06+treat1+treat2+treat3', data = a2).fit() \n",
    "model_july = smf.ols('jul07~jul06+treat1+treat2+treat3', data = a2).fit() \n",
    "model_aug = smf.ols('aug07~aug06+treat1+treat2+treat3', data = a2).fit() \n",
    "model_sept = smf.ols('sep07~sep06+treat1+treat2+treat3', data = a2).fit() \n",
    "model_oct = smf.ols('oct07~oct06+treat1+treat2+treat3', data = a2).fit() \n",
    "\n",
    "# Build Stargazer table: \n",
    "Q2_table = Stargazer([model_june, model_july, model_aug, model_sept, model_oct])\n",
    "\n",
    "# Set covariaet order: \n",
    "Q2_table.covariate_order(['jun06', 'jul06', 'aug06', 'sep06', 'oct06', 'treat1', 'treat2', 'treat3', 'Intercept'])\n",
    "#raise NotImplementedError()"
   ]
  },
  {
   "cell_type": "code",
   "execution_count": 11,
   "metadata": {},
   "outputs": [
    {
     "data": {
      "text/html": [
       "<table style=\"text-align:center\"><tr><td colspan=\"6\" style=\"border-bottom: 1px solid black\"></td></tr><tr><td style=\"text-align:left\"></td><tr><td style=\"text-align:left\"></td><td>(1)</td><td>(2)</td><td>(3)</td><td>(4)</td><td>(5)</td></tr><tr><td colspan=\"6\" style=\"border-bottom: 1px solid black\"></td></tr><tr><td style=\"text-align:left\">jun06</td><td>0.616<sup>***</sup></td><td></td><td></td><td></td><td></td></tr><tr><td style=\"text-align:left\"></td><td>(0.027)</td><td></td><td></td><td></td><td></td></tr><tr><td style=\"text-align:left\">jul06</td><td></td><td>0.497<sup>***</sup></td><td></td><td></td><td></td></tr><tr><td style=\"text-align:left\"></td><td></td><td>(0.002)</td><td></td><td></td><td></td></tr><tr><td style=\"text-align:left\">aug06</td><td></td><td></td><td>0.440<sup>***</sup></td><td></td><td></td></tr><tr><td style=\"text-align:left\"></td><td></td><td></td><td>(0.002)</td><td></td><td></td></tr><tr><td style=\"text-align:left\">sep06</td><td></td><td></td><td></td><td>0.596<sup>***</sup></td><td></td></tr><tr><td style=\"text-align:left\"></td><td></td><td></td><td></td><td>(0.003)</td><td></td></tr><tr><td style=\"text-align:left\">oct06</td><td></td><td></td><td></td><td></td><td>0.446<sup>***</sup></td></tr><tr><td style=\"text-align:left\"></td><td></td><td></td><td></td><td></td><td>(0.003)</td></tr><tr><td style=\"text-align:left\">treat1</td><td>-0.521<sup></sup></td><td>-0.094<sup></sup></td><td>-0.085<sup></sup></td><td>0.023<sup></sup></td><td>-0.024<sup></sup></td></tr><tr><td style=\"text-align:left\"></td><td>(0.920)</td><td>(0.074)</td><td>(0.077)</td><td>(0.085)</td><td>(0.070)</td></tr><tr><td style=\"text-align:left\">treat2</td><td>0.913<sup></sup></td><td>-0.315<sup>***</sup></td><td>-0.227<sup>***</sup></td><td>-0.234<sup>***</sup></td><td>-0.184<sup>***</sup></td></tr><tr><td style=\"text-align:left\"></td><td>(0.920)</td><td>(0.074)</td><td>(0.077)</td><td>(0.085)</td><td>(0.070)</td></tr><tr><td style=\"text-align:left\">treat3</td><td>-0.953<sup></sup></td><td>-0.511<sup>***</sup></td><td>-0.514<sup>***</sup></td><td>-0.320<sup>***</sup></td><td>-0.295<sup>***</sup></td></tr><tr><td style=\"text-align:left\"></td><td>(0.920)</td><td>(0.074)</td><td>(0.077)</td><td>(0.085)</td><td>(0.070)</td></tr><tr><td style=\"text-align:left\">Intercept</td><td>4.580<sup>***</sup></td><td>4.075<sup>***</sup></td><td>4.544<sup>***</sup></td><td>3.873<sup>***</sup></td><td>4.536<sup>***</sup></td></tr><tr><td style=\"text-align:left\"></td><td>(0.470)</td><td>(0.036)</td><td>(0.038)</td><td>(0.043)</td><td>(0.035)</td></tr><td colspan=\"6\" style=\"border-bottom: 1px solid black\"></td></tr><tr><td style=\"text-align: left\">Observations</td><td>106,669</td><td>106,669</td><td>106,669</td><td>106,669</td><td>106,669</td></tr><tr><td style=\"text-align: left\">R<sup>2</sup></td><td>0.005</td><td>0.361</td><td>0.279</td><td>0.228</td><td>0.178</td></tr><tr><td style=\"text-align: left\">Adjusted R<sup>2</sup></td><td>0.005</td><td>0.361</td><td>0.279</td><td>0.228</td><td>0.178</td></tr><tr><td style=\"text-align: left\">Residual Std. Error</td><td>92.157 (df=106664)</td><td>7.401 (df=106664)</td><td>7.722 (df=106664)</td><td>8.524 (df=106664)</td><td>6.989 (df=106664)</td></tr><tr><td style=\"text-align: left\">F Statistic</td><td>133.679<sup>***</sup> (df=4; 106664)</td><td>15042.288<sup>***</sup> (df=4; 106664)</td><td>10306.924<sup>***</sup> (df=4; 106664)</td><td>7868.814<sup>***</sup> (df=4; 106664)</td><td>5791.851<sup>***</sup> (df=4; 106664)</td></tr><tr><td colspan=\"6\" style=\"border-bottom: 1px solid black\"></td></tr><tr><td style=\"text-align: left\">Note:</td>\n",
       " <td colspan=\"5\" style=\"text-align: right\">\n",
       "  <sup>*</sup>p&lt;0.1;\n",
       "  <sup>**</sup>p&lt;0.05;\n",
       "  <sup>***</sup>p&lt;0.01\n",
       " </td></tr></table>"
      ],
      "text/plain": [
       "<stargazer.stargazer.Stargazer at 0x7f92198e30b8>"
      ]
     },
     "execution_count": 11,
     "metadata": {},
     "output_type": "execute_result"
    }
   ],
   "source": [
    "Q2_table"
   ]
  },
  {
   "cell_type": "code",
   "execution_count": 12,
   "metadata": {
    "deletable": false,
    "editable": false,
    "nbgrader": {
     "checksum": "8af96ef96301ae0b9070b31144047653",
     "grade": true,
     "grade_id": "cell-1e489167303d7cb8",
     "locked": true,
     "points": 3,
     "schema_version": 1,
     "solution": false
    }
   },
   "outputs": [],
   "source": [
    "# Hidden Tests, checking the values in Q2_table."
   ]
  },
  {
   "cell_type": "markdown",
   "metadata": {},
   "source": [
    "# "
   ]
  },
  {
   "cell_type": "code",
   "execution_count": 13,
   "metadata": {},
   "outputs": [
    {
     "data": {
      "text/plain": [
       "dict_keys(['p_values', 'cov_values', 'cov_std_err', 'r2', 'r2_adj', 'f_p_value', 'degree_freedom', 'degree_freedom_resid', 'nobs', 'f_statistic', 'cov_names', 'conf_int_low_values', 'conf_int_high_values', 'resid_std_err'])"
      ]
     },
     "execution_count": 13,
     "metadata": {},
     "output_type": "execute_result"
    }
   ],
   "source": [
    "Q2_table.model_data[0].keys()"
   ]
  },
  {
   "cell_type": "code",
   "execution_count": 14,
   "metadata": {
    "deletable": false,
    "nbgrader": {
     "checksum": "62ad49b26390c891d141dc9e6f470f1c",
     "grade": true,
     "grade_id": "cell-200fadf60bb3a8da",
     "locked": false,
     "points": 0,
     "schema_version": 1,
     "solution": true
    }
   },
   "outputs": [
    {
     "name": "stderr",
     "output_type": "stream",
     "text": [
      "/Users/prashantsanghal/anaconda3/lib/python3.6/site-packages/pandas/plotting/_matplotlib/core.py:1192: UserWarning: FixedFormatter should only be used together with FixedLocator\n",
      "  ax.set_xticklabels(xticklabels)\n"
     ]
    },
    {
     "data": {
      "image/png": "[encoded data removed]",
      "text/plain": [
       "<Figure size 1080x576 with 1 Axes>"
      ]
     },
     "metadata": {
      "needs_background": "light"
     },
     "output_type": "display_data"
    }
   ],
   "source": [
    "import matplotlib.pyplot as plt\n",
    "%matplotlib inline\n",
    "# Q2-2: collect coefficients from the OLS regressions and plot the effect size\n",
    "# for different treatment conditions for each month.\n",
    "# Hint: for each month in 2007, we obtain an estimate for the coefficient for\n",
    "# each treatment condition\n",
    "    # The x-axis for the plot should be: 'jun07', 'jul07', 'aug07', 'sep07', 'oct07', \n",
    "    # The y-axis for the plot should denote the \"effect size\" (or, coefficients\n",
    "    # for treatment conditions in the OLS regression)\n",
    "    \n",
    "# YOUR CODE HERE\n",
    "t_coeff = pd.DataFrame({i: Q2_table.model_data[i]['cov_values'][2:] for i in range(0,5)}).T\n",
    "t_coeff.index = ['jun07', 'jul07', 'aug07', 'sep07', 'oct07']\n",
    "\n",
    "# Make Plot:\n",
    "\n",
    "_ = t_coeff.plot(figsize = (15,8))\n",
    "_ = plt.ylabel('Effect Size (OLS Rgeression Coefficients\\n for each Treatment Condition)')\n",
    "_ = plt.xlabel('Post Treatment Months')\n",
    "_ = plt.title('Effect Size of Treatment Conditions for each Month')\n",
    "#raise NotImplementedError()"
   ]
  },
  {
   "cell_type": "markdown",
   "metadata": {
    "deletable": false,
    "editable": false,
    "nbgrader": {
     "checksum": "f0209f144e610aec082d1bc4f86231a0",
     "grade": false,
     "grade_id": "cell-54a0df19e4d1b73f",
     "locked": true,
     "schema_version": 1,
     "solution": false
    }
   },
   "source": [
    "**Q2-3**: Recall that all the water consumption records are in thousands of gallons. Briefly summarize how treatment effects change over time. (1pt)"
   ]
  },
  {
   "cell_type": "markdown",
   "metadata": {
    "deletable": false,
    "nbgrader": {
     "checksum": "14e1a7c99e0eafde819f7ce779828f68",
     "grade": true,
     "grade_id": "cell-91525312b38cbd66",
     "locked": false,
     "points": 0,
     "schema_version": 1,
     "solution": true
    }
   },
   "source": [
    "YOUR ANSWER HERE\n",
    "\n",
    "A per the plot above, we can see that treatment 2 coefficient declined significantly from a high of 0.92 to -0.315 for the month of June to July 2007. While treatment 3, had the lowest coefficient value at -0.95 which saw a slight increase after receiving the treatment for the same period during June to July 2007.  \n",
    "This could mean that the users of treatment 2, had the maximum room for improvement than the users of other treated groups. Example, users of treated groups 1 and 3 both showed slight increase in their regression coefficients suggesting, they may have increased their water consumption after receiving the letters.    "
   ]
  },
  {
   "cell_type": "markdown",
   "metadata": {
    "deletable": false,
    "editable": false,
    "nbgrader": {
     "checksum": "eb43491e45659c93b5dbd7ca7181e4ae",
     "grade": false,
     "grade_id": "cell-9b2b79418b4ff21b",
     "locked": true,
     "schema_version": 1,
     "solution": false
    }
   },
   "source": [
    "## Question 3: ATE for summer 2007 (4pts)\n",
    "For the rest of this assignment, we will consider the treatment effect using aggreated water use for summer 2007. That is, as the dependent variable, we use this sum: `jul07  + aug07 + sep07 + oct07`\n",
    "\n",
    "1. Estimate the average treatment effects for water usage in summer 2007, controlling for water consumption in summer and fall 2006, as well as spring (April, May) 2007. Use the helper code provided, reproduce Model A and Model B as reported in Table 2. Please name your Stagazer table as `Q3_table`. You can ignore the Model C column. (3pts)\n",
    "2. Interpret the coefficient for `treat3`, the treatment dummy for \"Strong social norm\". (1pt)\n",
    "\n",
    "**Note**: Q3-2 will be manually graded.\n",
    "\n",
    "![table2](assets/Table2_Q3.png)"
   ]
  },
  {
   "cell_type": "code",
   "execution_count": 15,
   "metadata": {
    "deletable": false,
    "nbgrader": {
     "checksum": "21f35a7a0fb63c8a750b849e16980988",
     "grade": false,
     "grade_id": "cell-82539f57eaec5351",
     "locked": false,
     "schema_version": 1,
     "solution": true
    }
   },
   "outputs": [],
   "source": [
    "# Here are the helper scripts to get you started with the OLS regression\n",
    "a2['summer_07'] = a2[['jul07', 'aug07', 'sep07', 'oct07']].sum(axis=1) # This is the outcome variable\n",
    "a2['water_2006'] = a2[['jun06', 'jul06', 'aug06', 'sep06', 'oct06', 'nov06']].sum(axis=1)  # This is the first covariate\n",
    "a2['apr_may_07'] = a2[['apr07', 'may07']].sum(axis=1) # This is the second covariate\n",
    "\n",
    "# Q3-1: Estimate Model A and Model B using OLS, and collect results using Stargazer.\n",
    "# Make sure to name your Stagarzer table as Q3_table.\n",
    "\n",
    "# Please make sure the Stargazer table is rendered properly before submitting.\n",
    "# Note:\n",
    "    # 1. There are typos in the table, where \"Water use, May-October 2006\" is actually \"Jun-Nov 2006\".\n",
    "        # And, the standard errors in your table don't have to match exactly with the standard errors from the original table.\n",
    "    # 2. For Model B, be prepared for a \"long\" execution time. Technically, to include\n",
    "        # the \"fixed effect for var_x\", you can add a `+C(var_x)` term into the\n",
    "        # formula. Also, make sure not to include any of the estimates for a\n",
    "        # specific route in your table.\n",
    "    # 3. You may consider running the regressions in one cell, and render the\n",
    "        # table with Stargazer in a new code cell. This can save your time from\n",
    "        # repeatedly estimating the same fixed effect model when you tune the\n",
    "        # regression table with Stargazer.\n",
    "# YOUR CODE HERE\n",
    "\n",
    "# Model A, Route Not fixed, fit model: \n",
    "model_a = smf.ols('summer_07~water_2006+apr_may_07+treat1+treat2+treat3', data = a2).fit()\n",
    "\n",
    "# Model B, Route Fixed, fit model with clustered standard error:\n",
    "model_b = smf.ols('summer_07~water_2006+apr_may_07+treat1+treat2+treat3+C(route)', data = a2).fit(cov_type='cluster', cov_kwds={'groups': a2['route']})\n",
    "#raise NotImplementedError()"
   ]
  },
  {
   "cell_type": "code",
   "execution_count": 16,
   "metadata": {},
   "outputs": [
    {
     "name": "stderr",
     "output_type": "stream",
     "text": [
      "/Users/prashantsanghal/anaconda3/lib/python3.6/site-packages/statsmodels/base/model.py:1834: ValueWarning: covariance of constraints does not have full rank. The number of constraints is 394, but rank is 5\n",
      "  'rank is %d' % (J, J_), ValueWarning)\n"
     ]
    }
   ],
   "source": [
    "# Build Stargrazer Table:\n",
    "Q3_table = Stargazer([model_a,model_b])\n",
    "\n",
    "# Set Covariate Order: \n",
    "Q3_table.covariate_order(['Intercept', 'treat1', 'treat2', 'treat3', 'water_2006','apr_may_07'])"
   ]
  },
  {
   "cell_type": "code",
   "execution_count": 17,
   "metadata": {},
   "outputs": [
    {
     "data": {
      "text/html": [
       "<table style=\"text-align:center\"><tr><td colspan=\"3\" style=\"border-bottom: 1px solid black\"></td></tr><tr><td style=\"text-align:left\"></td><td colspan=\"2\"><em>Dependent variable:summer_07</em></td></tr><tr><td style=\"text-align:left\"></td><tr><td style=\"text-align:left\"></td><td>(1)</td><td>(2)</td></tr><tr><td colspan=\"3\" style=\"border-bottom: 1px solid black\"></td></tr><tr><td style=\"text-align:left\">Intercept</td><td>2.185<sup>***</sup></td><td>1.874<sup>***</sup></td></tr><tr><td style=\"text-align:left\"></td><td>(0.106)</td><td>(0.576)</td></tr><tr><td style=\"text-align:left\">treat1</td><td>-0.237<sup></sup></td><td>-0.237<sup></sup></td></tr><tr><td style=\"text-align:left\"></td><td>(0.179)</td><td>(0.172)</td></tr><tr><td style=\"text-align:left\">treat2</td><td>-0.990<sup>***</sup></td><td>-0.991<sup>***</sup></td></tr><tr><td style=\"text-align:left\"></td><td>(0.179)</td><td>(0.178)</td></tr><tr><td style=\"text-align:left\">treat3</td><td>-1.739<sup>***</sup></td><td>-1.741<sup>***</sup></td></tr><tr><td style=\"text-align:left\"></td><td>(0.179)</td><td>(0.181)</td></tr><tr><td style=\"text-align:left\">water_2006</td><td>0.372<sup>***</sup></td><td>0.347<sup>***</sup></td></tr><tr><td style=\"text-align:left\"></td><td>(0.002)</td><td>(0.014)</td></tr><tr><td style=\"text-align:left\">apr_may_07</td><td>0.793<sup>***</sup></td><td>0.829<sup>***</sup></td></tr><tr><td style=\"text-align:left\"></td><td>(0.006)</td><td>(0.046)</td></tr><td colspan=\"3\" style=\"border-bottom: 1px solid black\"></td></tr><tr><td style=\"text-align: left\">Observations</td><td>106,669</td><td>106,669</td></tr><tr><td style=\"text-align: left\">R<sup>2</sup></td><td>0.618</td><td>0.634</td></tr><tr><td style=\"text-align: left\">Adjusted R<sup>2</sup></td><td>0.618</td><td>0.632</td></tr><tr><td style=\"text-align: left\">Residual Std. Error</td><td>17.890 (df=106663)</td><td>17.564 (df=106274)</td></tr><tr><td style=\"text-align: left\">F Statistic</td><td>34584.061<sup>***</sup> (df=5; 106663)</td><td>198.466<sup>***</sup> (df=394; 106274)</td></tr><tr><td colspan=\"3\" style=\"border-bottom: 1px solid black\"></td></tr><tr><td style=\"text-align: left\">Note:</td>\n",
       " <td colspan=\"2\" style=\"text-align: right\">\n",
       "  <sup>*</sup>p&lt;0.1;\n",
       "  <sup>**</sup>p&lt;0.05;\n",
       "  <sup>***</sup>p&lt;0.01\n",
       " </td></tr></table>"
      ],
      "text/plain": [
       "<stargazer.stargazer.Stargazer at 0x7f923a7dc400>"
      ]
     },
     "execution_count": 17,
     "metadata": {},
     "output_type": "execute_result"
    }
   ],
   "source": [
    "Q3_table"
   ]
  },
  {
   "cell_type": "code",
   "execution_count": 18,
   "metadata": {
    "deletable": false,
    "editable": false,
    "nbgrader": {
     "checksum": "0c0199ff6265202ec0133fc0586ff0ef",
     "grade": true,
     "grade_id": "cell-7729c1a64885e425",
     "locked": true,
     "points": 3,
     "schema_version": 1,
     "solution": false
    }
   },
   "outputs": [],
   "source": [
    "# Hidden Tests, checking Q3_table for its \"layout\" and coefficients"
   ]
  },
  {
   "cell_type": "markdown",
   "metadata": {
    "deletable": false,
    "editable": false,
    "nbgrader": {
     "checksum": "64977b9baaf118f263b3b04793e8a19c",
     "grade": false,
     "grade_id": "cell-8ae10b7e5e389191",
     "locked": true,
     "schema_version": 1,
     "solution": false
    }
   },
   "source": [
    "**Q3-2**: By now, you should see the number `-1.74` as the coefficient for \"treat3\". Interpret what this tells you about the Strong social norm treatment condition. Please be specific about the time duration and the units.\n",
    "\n",
    "**Note**: This question will be manually graded."
   ]
  },
  {
   "cell_type": "markdown",
   "metadata": {
    "deletable": false,
    "nbgrader": {
     "checksum": "558608d603849b35969ab662a2cf79ad",
     "grade": true,
     "grade_id": "cell-a151bea3cde23f08",
     "locked": false,
     "points": 0,
     "schema_version": 1,
     "solution": true
    }
   },
   "source": [
    "YOUR ANSWER HERE\n",
    "\n",
    "Households randomly assigned to treatment 3 (Strong Social Norm Treatment) will save 1,740 gallons of water on an average for \"Jun-Nov 2006\" and \"Apr-May 2007\" months than those in the control group.  "
   ]
  },
  {
   "cell_type": "markdown",
   "metadata": {
    "deletable": false,
    "editable": false,
    "nbgrader": {
     "checksum": "15b08e2384fc5ab2ff1a5c011ac06893",
     "grade": false,
     "grade_id": "cell-1bac59c654e721fd",
     "locked": true,
     "schema_version": 1,
     "solution": false
    }
   },
   "source": [
    "## Question 4: Heterogeneous treatment effect by Summer 2006 water consumption (5pts)\n",
    "Estimate the heterogeneous treatment effects, by high (above-median) and low users (below-median) based on their 2006 water consumption, controlling for water consumption in 2006, as well as spring (April, May) 2007. Table 3 examines the treatment effect by restricting the sample into Top and Bottom 50%, based on household 2006 water consumption. As noted in footnote 18, households with significantly lower water consumptions were not included in the experiment. The variable, `percent_report` < 50 indicates below-median households. \n",
    "\n",
    "1. Reproduce Table 3 using OLS regression and assign the Stagazer table as `Q4_table3`. (2pts)\n",
    "![table3](assets/Table3_Q4.png)\n",
    "\n",
    "2. Update the plots in Q1-1 and Q1-2 to consider two separate categories: whether the household's Summer 2006 water consumption is in the Top 50% or not. (2pts)\n",
    "3. Summarize your findings of heterogeneous treatment effect by Summer 2006 water consumption based on the table you created in Q4-1 and the plots you drew in Q4-2. (1pt)"
   ]
  },
  {
   "cell_type": "code",
   "execution_count": 19,
   "metadata": {
    "deletable": false,
    "nbgrader": {
     "checksum": "6fdd59b9fb974dd8397736d5a348149c",
     "grade": true,
     "grade_id": "cell-62c9aaca88f56705",
     "locked": false,
     "points": 0,
     "schema_version": 1,
     "solution": true
    }
   },
   "outputs": [],
   "source": [
    "# Q4-1: reproduce Table 3 and assign your Stargazer tablet object as Q4_table3.\n",
    "# YOUR CODE HERE\n",
    "# Get bottom_50 and top_50 % households:\n",
    "bottom_50 = a2[a2['percent_report']<50]\n",
    "top_50 = a2[a2['percent_report']>=50]\n",
    "\n",
    "# Model A, Bottom_50 by median percent_report, fit model using clustered standard error by route: \n",
    "model_bottom_50 = smf.ols('summer_07~water_2006+apr_may_07+treat1+treat2+treat3', data = bottom_50).fit(cov_type='cluster', cov_kwds={'groups': bottom_50['route']})\n",
    "\n",
    "# Model B, Top_50 by median percent_report, fit model using clustered standard error by route: \n",
    "model_top_50 = smf.ols('summer_07~water_2006+apr_may_07+treat1+treat2+treat3', data = top_50).fit(cov_type='cluster', cov_kwds={'groups': top_50['route']})\n",
    "\n",
    "# Build stargazer table: \n",
    "Q4_table3 = Stargazer([model_bottom_50,model_top_50])\n",
    "\n",
    "# Set Covariate order as per given table: \n",
    "Q4_table3.covariate_order(['Intercept', 'treat1', 'treat2', 'treat3', 'water_2006','apr_may_07'])\n",
    "\n",
    "#raise NotImplementedError()"
   ]
  },
  {
   "cell_type": "code",
   "execution_count": 20,
   "metadata": {},
   "outputs": [
    {
     "data": {
      "text/html": [
       "<table style=\"text-align:center\"><tr><td colspan=\"3\" style=\"border-bottom: 1px solid black\"></td></tr><tr><td style=\"text-align:left\"></td><td colspan=\"2\"><em>Dependent variable:summer_07</em></td></tr><tr><td style=\"text-align:left\"></td><tr><td style=\"text-align:left\"></td><td>(1)</td><td>(2)</td></tr><tr><td colspan=\"3\" style=\"border-bottom: 1px solid black\"></td></tr><tr><td style=\"text-align:left\">Intercept</td><td>6.680<sup>***</sup></td><td>2.206<sup>***</sup></td></tr><tr><td style=\"text-align:left\"></td><td>(2.197)</td><td>(0.840)</td></tr><tr><td style=\"text-align:left\">treat1</td><td>-0.207<sup></sup></td><td>-0.250<sup></sup></td></tr><tr><td style=\"text-align:left\"></td><td>(0.182)</td><td>(0.251)</td></tr><tr><td style=\"text-align:left\">treat2</td><td>-0.464<sup>***</sup></td><td>-1.283<sup>***</sup></td></tr><tr><td style=\"text-align:left\"></td><td>(0.179)</td><td>(0.256)</td></tr><tr><td style=\"text-align:left\">treat3</td><td>-0.567<sup>***</sup></td><td>-2.349<sup>***</sup></td></tr><tr><td style=\"text-align:left\"></td><td>(0.160)</td><td>(0.259)</td></tr><tr><td style=\"text-align:left\">water_2006</td><td>0.223<sup>**</sup></td><td>0.373<sup>***</sup></td></tr><tr><td style=\"text-align:left\"></td><td>(0.089)</td><td>(0.015)</td></tr><tr><td style=\"text-align:left\">apr_may_07</td><td>0.773<sup>***</sup></td><td>0.795<sup>***</sup></td></tr><tr><td style=\"text-align:left\"></td><td>(0.156)</td><td>(0.043)</td></tr><td colspan=\"3\" style=\"border-bottom: 1px solid black\"></td></tr><tr><td style=\"text-align: left\">Observations</td><td>37,360</td><td>69,309</td></tr><tr><td style=\"text-align: left\">R<sup>2</sup></td><td>0.168</td><td>0.578</td></tr><tr><td style=\"text-align: left\">Adjusted R<sup>2</sup></td><td>0.168</td><td>0.578</td></tr><tr><td style=\"text-align: left\">Residual Std. Error</td><td>10.301 (df=37354)</td><td>20.851 (df=69303)</td></tr><tr><td style=\"text-align: left\">F Statistic</td><td>16.378<sup>***</sup> (df=5; 37354)</td><td>487.890<sup>***</sup> (df=5; 69303)</td></tr><tr><td colspan=\"3\" style=\"border-bottom: 1px solid black\"></td></tr><tr><td style=\"text-align: left\">Note:</td>\n",
       " <td colspan=\"2\" style=\"text-align: right\">\n",
       "  <sup>*</sup>p&lt;0.1;\n",
       "  <sup>**</sup>p&lt;0.05;\n",
       "  <sup>***</sup>p&lt;0.01\n",
       " </td></tr></table>"
      ],
      "text/plain": [
       "<stargazer.stargazer.Stargazer at 0x7f9229c2d780>"
      ]
     },
     "execution_count": 20,
     "metadata": {},
     "output_type": "execute_result"
    }
   ],
   "source": [
    "Q4_table3"
   ]
  },
  {
   "cell_type": "code",
   "execution_count": 21,
   "metadata": {
    "deletable": false,
    "editable": false,
    "nbgrader": {
     "checksum": "97affecfd029507cca933b825db754da",
     "grade": true,
     "grade_id": "cell-e4d03d1b1c628f19",
     "locked": true,
     "points": 2,
     "schema_version": 1,
     "solution": false
    }
   },
   "outputs": [],
   "source": [
    "# Hidden Tests, check Q4_table3 object, for reproducing Table 3 from the paper."
   ]
  },
  {
   "cell_type": "code",
   "execution_count": 23,
   "metadata": {
    "deletable": false,
    "nbgrader": {
     "checksum": "50646730c64cd51fcf8bd239588907c3",
     "grade": true,
     "grade_id": "cell-be79f3c764f5f2ea",
     "locked": false,
     "points": 0,
     "schema_version": 1,
     "solution": true
    }
   },
   "outputs": [
    {
     "data": {
      "text/html": [
       "\n",
       "<div id=\"altair-viz-19a9b6fec1d3416c875a18c7ed3edaf2\"></div>\n",
       "<script type=\"text/javascript\">\n",
       "  (function(spec, embedOpt){\n",
       "    let outputDiv = document.currentScript.previousElementSibling;\n",
       "    if (outputDiv.id !== \"altair-viz-19a9b6fec1d3416c875a18c7ed3edaf2\") {\n",
       "      outputDiv = document.getElementById(\"altair-viz-19a9b6fec1d3416c875a18c7ed3edaf2\");\n",
       "    }\n",
       "    const paths = {\n",
       "      \"vega\": \"https://cdn.jsdelivr.net/npm//vega@5?noext\",\n",
       "      \"vega-lib\": \"https://cdn.jsdelivr.net/npm//vega-lib?noext\",\n",
       "      \"vega-lite\": \"https://cdn.jsdelivr.net/npm//vega-lite@4.8.1?noext\",\n",
       "      \"vega-embed\": \"https://cdn.jsdelivr.net/npm//vega-embed@6?noext\",\n",
       "    };\n",
       "\n",
       "    function loadScript(lib) {\n",
       "      return new Promise(function(resolve, reject) {\n",
       "        var s = document.createElement('script');\n",
       "        s.src = paths[lib];\n",
       "        s.async = true;\n",
       "        s.onload = () => resolve(paths[lib]);\n",
       "        s.onerror = () => reject(`Error loading script: ${paths[lib]}`);\n",
       "        document.getElementsByTagName(\"head\")[0].appendChild(s);\n",
       "      });\n",
       "    }\n",
       "\n",
       "    function showError(err) {\n",
       "      outputDiv.innerHTML = `<div class=\"error\" style=\"color:red;\">${err}</div>`;\n",
       "      throw err;\n",
       "    }\n",
       "\n",
       "    function displayChart(vegaEmbed) {\n",
       "      vegaEmbed(outputDiv, spec, embedOpt)\n",
       "        .catch(err => showError(`Javascript Error: ${err.message}<br>This usually means there's a typo in your chart specification. See the javascript console for the full traceback.`));\n",
       "    }\n",
       "\n",
       "    if(typeof define === \"function\" && define.amd) {\n",
       "      requirejs.config({paths});\n",
       "      require([\"vega-embed\"], displayChart, err => showError(`Error loading script: ${err.message}`));\n",
       "    } else if (typeof vegaEmbed === \"function\") {\n",
       "      displayChart(vegaEmbed);\n",
       "    } else {\n",
       "      loadScript(\"vega\")\n",
       "        .then(() => loadScript(\"vega-lite\"))\n",
       "        .then(() => loadScript(\"vega-embed\"))\n",
       "        .catch(showError)\n",
       "        .then(() => displayChart(vegaEmbed));\n",
       "    }\n",
       "  })({\"config\": {\"view\": {\"continuousWidth\": 400, \"continuousHeight\": 300}}, \"vconcat\": [{\"data\": {\"url\": \"altair-data-3393f4d7b1dfa168a18d5ed05de38991.json\", \"format\": {\"type\": \"json\"}}, \"mark\": \"rect\", \"encoding\": {\"color\": {\"type\": \"quantitative\", \"field\": \"water_consumption\", \"scale\": {\"scheme\": \"greys\"}}, \"tooltip\": [{\"type\": \"nominal\", \"field\": \"top_50_binary\"}, {\"type\": \"quantitative\", \"field\": \"water_consumption\", \"format\": \"0.2f\"}], \"x\": {\"type\": \"nominal\", \"axis\": {\"title\": \"\"}, \"field\": \"monthyear\", \"sort\": [\"jun06\", \"jul06\", \"aug06\", \"sep06\", \"oct06\", \"nov06\", \"dec06\", \"jan07\", \"feb07\", \"mar07\", \"apr07\", \"may07\", \"jun07\", \"jul07\", \"aug07\", \"sep07\", \"oct07\"]}, \"y\": {\"type\": \"nominal\", \"axis\": {\"title\": [\"top_50 (binary)\"]}, \"field\": \"top_50_binary\"}}, \"title\": \"Q4-1: Average Water Consumption by Top 50%\", \"width\": 600}, {\"data\": {\"url\": \"altair-data-235565b14a41199b8ab8f88e4a556fc9.json\", \"format\": {\"type\": \"json\"}}, \"facet\": {\"row\": {\"type\": \"nominal\", \"field\": \"treatment\"}}, \"spec\": {\"mark\": \"rect\", \"encoding\": {\"color\": {\"type\": \"quantitative\", \"field\": \"water_consumption\", \"scale\": {\"scheme\": \"greys\"}}, \"tooltip\": [{\"type\": \"nominal\", \"field\": \"treatment\"}, {\"type\": \"quantitative\", \"field\": \"water_consumption\", \"format\": \"0.2f\"}], \"x\": {\"type\": \"nominal\", \"field\": \"monthyear\", \"sort\": [\"jun06\", \"jul06\", \"aug06\", \"sep06\", \"oct06\", \"nov06\", \"dec06\", \"jan07\", \"feb07\", \"mar07\", \"apr07\", \"may07\", \"jun07\", \"jul07\", \"aug07\", \"sep07\", \"oct07\"]}, \"y\": {\"type\": \"nominal\", \"axis\": {\"title\": \"\"}, \"field\": \"top_50_binary\"}}, \"transform\": [{\"filter\": \"((datum.water_consumption > 9.73) && (datum.water_consumption < 18))\"}], \"width\": 600}, \"title\": [\"Q4-2: Effect of Treatment on average water consumption\", \"Summer_2006 vs Jun 2007 post intervention\"]}], \"resolve\": {\"scale\": {\"color\": \"independent\"}}, \"$schema\": \"https://vega.github.io/schema/vega-lite/v4.8.1.json\"}, {\"mode\": \"vega-lite\"});\n",
       "</script>"
      ],
      "text/plain": [
       "alt.VConcatChart(...)"
      ]
     },
     "execution_count": 23,
     "metadata": {},
     "output_type": "execute_result"
    }
   ],
   "source": [
    "# Q4-2: update the plot in Q1-1 and Q1-2\n",
    "\n",
    "# YOUR CODE HERE\n",
    "import numpy as np\n",
    "#df_summer06_top50 = a2[['jul06', 'aug06', 'sep06', 'oct06', 'top_50_binary']]\n",
    "\n",
    "a2_melt['top_50_binary'] = np.where(a2_melt['percent_report']>=50, 1, 0)\n",
    "\n",
    "\n",
    "# Average consumption of water by months: \n",
    "mean_top50 = a2_melt.groupby(['monthyear','top_50_binary']).agg({'water_consumption':'mean'}).reset_index()\n",
    "\n",
    "# Plot average water consumption: \n",
    "line_top50 = (alt.Chart(mean_top50)\n",
    "                            .mark_rect()\n",
    "                            .encode(x = alt.X('monthyear', sort = sort_months, axis = alt.Axis(title = '')),\n",
    "                                    y = alt.Y('top_50_binary:N',  axis = alt.Axis(title = ['top_50 (binary)'])),\n",
    "                                    color = alt.Color('water_consumption:Q', scale = alt.Scale(scheme = 'greys')),\n",
    "                                    tooltip= ['top_50_binary:N', alt.Tooltip('water_consumption:Q', format= '0.2f')])\n",
    "                            .properties(width = 600, title = 'Q4-1: Average Water Consumption by Top 50%'))\n",
    "              \n",
    "\n",
    "mean_top50_treatment = a2_melt.groupby(['monthyear','treatment','top_50_binary']).agg({'water_consumption':'mean'}).reset_index()\n",
    "              \n",
    "line_top50_treatment = (alt.Chart(mean_top50_treatment)\n",
    "                            .mark_rect()\n",
    "                            .encode(x = alt.X('monthyear', sort = sort_months),\n",
    "                                    y = alt.Y('top_50_binary:N',  axis = alt.Axis(title = '')),\n",
    "                                    color = alt.Color('water_consumption:Q', scale = alt.Scale(scheme = 'greys')), \n",
    "                                    tooltip= ['treatment:N', alt.Tooltip('water_consumption:Q', format= '0.2f')])\n",
    "                            .properties(width = 600)\n",
    "                        .transform_filter((alt.datum.water_consumption>9.73)&(alt.datum.water_consumption<18))\n",
    "                        .facet(row=alt.Row('treatment:N')).properties(title=['Q4-2: Effect of Treatment on average water consumption', 'Summer_2006 vs Jun 2007 post intervention']))\n",
    "\n",
    "\n",
    "\n",
    "plot_average_consumption_top50 = (line_top50 & line_top50_treatment).resolve_scale(color='independent')\n",
    "plot_average_consumption_top50\n"
   ]
  },
  {
   "cell_type": "markdown",
   "metadata": {
    "deletable": false,
    "editable": false,
    "nbgrader": {
     "checksum": "7ee9098fcbf782dfa32e817ee129c51b",
     "grade": false,
     "grade_id": "cell-d9aed43f63130402",
     "locked": true,
     "schema_version": 1,
     "solution": false
    }
   },
   "source": [
    "**Q4-3**: Summarize your findings of heterogeneous treatment effect by Summer 2006 water consumption based on the table you created in Q4-1 and the plots you drew in Q4-2. (1pt)"
   ]
  },
  {
   "cell_type": "markdown",
   "metadata": {
    "deletable": false,
    "nbgrader": {
     "checksum": "a36a19468c72ed30a5b207ea719560fc",
     "grade": true,
     "grade_id": "cell-ad7dacbc8bd875d2",
     "locked": false,
     "points": 0,
     "schema_version": 1,
     "solution": true
    }
   },
   "source": [
    "YOUR ANSWER HERE\n",
    "\n",
    "From plot Q4-1, we can see that the average water consumption among top_50% households was already very high when compared to the bottom_50% households. Model A, which represents bottom_50% in Q4_table3 shows that randomly assigned households in treatment 3 would have saved only 567 gallons of water on an average for water_2006 and apr_may_07 months compared to the control group. While, Model B which represents top_50% in Q4_table3 compared to bottom_50% would have saved 2,349 gallons of water on an average for the same period as bottom_50%. Hence, applying treatment 3 on top_50% would result in most reduced water consumption on an average.    \n",
    "\n",
    "Furthermore, from the plot Q4-2, we can see the presence of heterogeneous treatment effect, because each treatment had a varied level of water consumption savings for each month post intervention as can be seen by the fading grey colors for the months from June07-to Aug07. I tried to apply a filter in Q4-2 to show heterogeneous treatment effect.     "
   ]
  }
 ],
 "metadata": {
  "coursera": {
   "schema_names": [
    "mads_data_science_for_social_good_v2_assignment2"
   ]
  },
  "kernelspec": {
   "display_name": "Python 3 (ipykernel)",
   "language": "python",
   "name": "python3"
  },
  "language_info": {
   "codemirror_mode": {
    "name": "ipython",
    "version": 3
   },
   "file_extension": ".py",
   "mimetype": "text/x-python",
   "name": "python",
   "nbconvert_exporter": "python",
   "pygments_lexer": "ipython3",
   "version": "3.9.7"
  }
 },
 "nbformat": 4,
 "nbformat_minor": 4
}
