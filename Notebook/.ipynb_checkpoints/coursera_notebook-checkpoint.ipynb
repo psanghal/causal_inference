{
 "cells": [
  {
   "cell_type": "markdown",
   "metadata": {
    "deletable": false,
    "editable": false,
    "nbgrader": {
     "checksum": "0163ae1f400a586bd55b8d643a462a66",
     "grade": false,
     "grade_id": "Heading",
     "locked": true,
     "schema_version": 1,
     "solution": false
    }
   },
   "source": [
    "## Causal Inference\n",
    "# School of Information, University of Michigan \n",
    "## Week 3"
   ]
  },
  {
   "cell_type": "markdown",
   "metadata": {
    "deletable": false,
    "editable": false,
    "nbgrader": {
     "checksum": "03a8cf9c540afb3d6c33e15358a74cba",
     "grade": false,
     "grade_id": "Resources",
     "locked": true,
     "schema_version": 1,
     "solution": false
    }
   },
   "source": [
    "### Resources:\n",
    "- Course Manual, which can be found in Coursera\n",
    "- [Instrumental Variables & Randomized Encouragement Trials: Driving Engagement of Learners](assets/MediumArticle.pdf)"
   ]
  },
  {
   "cell_type": "markdown",
   "metadata": {
    "deletable": false,
    "editable": false,
    "nbgrader": {
     "checksum": "9fadc0b188cd88e9176eed938b969040",
     "grade": false,
     "grade_id": "BackgroundPart1",
     "locked": true,
     "schema_version": 1,
     "solution": false
    }
   },
   "source": [
    "## Part 1\n",
    "\n",
    "### Background\n",
    "\n",
    "Researchers in Coursera are interested in figuring out whether a certain learning style can cause a learner to be more engaged and thus more likely to ultimately complete a course."
   ]
  },
  {
   "cell_type": "markdown",
   "metadata": {},
   "source": [
    "### Data\n",
    "\n",
    "The data file lecture3.csv contains 6 variables for 49,909 learners on the online learning platform Coursera. Below are the descriptions of each variable in the data:\n",
    "\n",
    "- *paid_enroll*: dummy variable that equals to 1 if a learner has paid for enrollment, 0 otherwise\n",
    "- *prv_wk_nbr*: the most recent course week a learner has completed, as a measure of how far the learner is into the class (e.g. if a learner most recently completed week 2 of a course, this variable is equal to 2)\n",
    "- *prv_wk_min*: the minutes a learner spent in the previous week on the platform\n",
    "- *message*: equal to 1 if a learner is in the treatment group (i.e. he/she received a message), 0 otherwise\n",
    "- *binge*: equal to 1 if a learner has binged, 0 otherwise (bingeing behavior is defined as completing and starting consecutive weeks of a course on the same day)\n",
    "- *complete*: dummy variable that is equal to 1 if a learner completed the next week in the course, 0 otherwise\n"
   ]
  },
  {
   "cell_type": "code",
   "execution_count": 1,
   "metadata": {
    "deletable": false,
    "editable": false,
    "nbgrader": {
     "checksum": "ebbca4c777d5a464fab4c8efda7c9c1c",
     "grade": false,
     "grade_id": "ImportStatements",
     "locked": true,
     "schema_version": 1,
     "solution": false
    }
   },
   "outputs": [],
   "source": [
    "# Import statements. Run this cell.\n",
    "\n",
    "import pandas as pd\n",
    "import numpy as np\n",
    "import statsmodels.api as sm\n",
    "import statsmodels.formula.api as smf\n",
    "import statsmodels.stats.api as sms\n",
    "from scipy import stats\n",
    "from linearmodels import IV2SLS"
   ]
  },
  {
   "cell_type": "code",
   "execution_count": 2,
   "metadata": {},
   "outputs": [
    {
     "data": {
      "text/html": [
       "<div>\n",
       "<style scoped>\n",
       "    .dataframe tbody tr th:only-of-type {\n",
       "        vertical-align: middle;\n",
       "    }\n",
       "\n",
       "    .dataframe tbody tr th {\n",
       "        vertical-align: top;\n",
       "    }\n",
       "\n",
       "    .dataframe thead th {\n",
       "        text-align: right;\n",
       "    }\n",
       "</style>\n",
       "<table border=\"1\" class=\"dataframe\">\n",
       "  <thead>\n",
       "    <tr style=\"text-align: right;\">\n",
       "      <th></th>\n",
       "      <th>paid_enroll</th>\n",
       "      <th>prv_wk_nbr</th>\n",
       "      <th>prv_wk_min</th>\n",
       "      <th>message</th>\n",
       "      <th>binge</th>\n",
       "      <th>complete</th>\n",
       "    </tr>\n",
       "  </thead>\n",
       "  <tbody>\n",
       "    <tr>\n",
       "      <th>0</th>\n",
       "      <td>1</td>\n",
       "      <td>2</td>\n",
       "      <td>193</td>\n",
       "      <td>0</td>\n",
       "      <td>1</td>\n",
       "      <td>1.0</td>\n",
       "    </tr>\n",
       "    <tr>\n",
       "      <th>1</th>\n",
       "      <td>0</td>\n",
       "      <td>5</td>\n",
       "      <td>194</td>\n",
       "      <td>0</td>\n",
       "      <td>1</td>\n",
       "      <td>1.0</td>\n",
       "    </tr>\n",
       "    <tr>\n",
       "      <th>2</th>\n",
       "      <td>1</td>\n",
       "      <td>1</td>\n",
       "      <td>45</td>\n",
       "      <td>0</td>\n",
       "      <td>0</td>\n",
       "      <td>1.0</td>\n",
       "    </tr>\n",
       "    <tr>\n",
       "      <th>3</th>\n",
       "      <td>1</td>\n",
       "      <td>4</td>\n",
       "      <td>118</td>\n",
       "      <td>0</td>\n",
       "      <td>0</td>\n",
       "      <td>1.0</td>\n",
       "    </tr>\n",
       "    <tr>\n",
       "      <th>4</th>\n",
       "      <td>0</td>\n",
       "      <td>5</td>\n",
       "      <td>247</td>\n",
       "      <td>0</td>\n",
       "      <td>1</td>\n",
       "      <td>1.0</td>\n",
       "    </tr>\n",
       "  </tbody>\n",
       "</table>\n",
       "</div>"
      ],
      "text/plain": [
       "   paid_enroll  prv_wk_nbr  prv_wk_min  message  binge  complete\n",
       "0            1           2         193        0      1       1.0\n",
       "1            0           5         194        0      1       1.0\n",
       "2            1           1          45        0      0       1.0\n",
       "3            1           4         118        0      0       1.0\n",
       "4            0           5         247        0      1       1.0"
      ]
     },
     "execution_count": 2,
     "metadata": {},
     "output_type": "execute_result"
    }
   ],
   "source": [
    "#Uploading data for assignment. Run this cell.\n",
    "data_coursera = pd.read_csv('assets/lecture3.csv')\n",
    "\n",
    "#Uncomment below to see the first five lines of the dataframe.\n",
    "data_coursera.head()"
   ]
  },
  {
   "cell_type": "markdown",
   "metadata": {
    "deletable": false,
    "editable": false,
    "nbgrader": {
     "checksum": "15e90b729d93d9d193f64402c6c97878",
     "grade": false,
     "grade_id": "Question1_1",
     "locked": true,
     "schema_version": 1,
     "solution": false
    }
   },
   "source": [
    "## Questions\n",
    "\n",
    "We are interested in investigating whether bingeing, defined as completing and starting consecutive weeks of a course on the same day, increases the likelihood of completing the following week in a course.\n",
    "\n",
    "**Note**: You can refer to the manual for the methods we use in the assignment if you need to. \n",
    "\n",
    "**Use the data_coursera dataframe uploaded above to answer the questions below unless otherwise specified.**\n",
    "\n",
    "**1.** Using robust standard errors in the statsmodels module, regress the variable *complete* on *binge*. Assign the coefficient in front of *binge* to the variable `binge_coeff1_1` and ensure that its data type is float. (Round to two decimal places.) (1 pt)"
   ]
  },
  {
   "cell_type": "code",
   "execution_count": 3,
   "metadata": {
    "deletable": false,
    "nbgrader": {
     "checksum": "233864dcc7fd0be5f3c9330a2145598a",
     "grade": false,
     "grade_id": "Answer1_1",
     "locked": false,
     "schema_version": 1,
     "solution": true
    }
   },
   "outputs": [
    {
     "name": "stdout",
     "output_type": "stream",
     "text": [
      "                            OLS Regression Results                            \n",
      "==============================================================================\n",
      "Dep. Variable:               complete   R-squared:                       0.258\n",
      "Model:                            OLS   Adj. R-squared:                  0.258\n",
      "Method:                 Least Squares   F-statistic:                 1.735e+04\n",
      "Date:                Tue, 23 Feb 2021   Prob (F-statistic):               0.00\n",
      "Time:                        22:52:04   Log-Likelihood:                -4289.1\n",
      "No. Observations:               49808   AIC:                             8582.\n",
      "Df Residuals:                   49806   BIC:                             8600.\n",
      "Df Model:                           1                                         \n",
      "Covariance Type:            nonrobust                                         \n",
      "==============================================================================\n",
      "                 coef    std err          t      P>|t|      [0.025      0.975]\n",
      "------------------------------------------------------------------------------\n",
      "Intercept      0.4937      0.003    151.014      0.000       0.487       0.500\n",
      "binge          0.4619      0.004    131.730      0.000       0.455       0.469\n",
      "==============================================================================\n",
      "Omnibus:                    18815.946   Durbin-Watson:                   1.989\n",
      "Prob(Omnibus):                  0.000   Jarque-Bera (JB):            86466.482\n",
      "Skew:                          -1.810   Prob(JB):                         0.00\n",
      "Kurtosis:                       8.344   Cond. No.                         5.36\n",
      "==============================================================================\n",
      "\n",
      "Warnings:\n",
      "[1] Standard Errors assume that the covariance matrix of the errors is correctly specified.\n",
      "                            OLS Regression Results                            \n",
      "==============================================================================\n",
      "Dep. Variable:               complete   R-squared:                       0.258\n",
      "Model:                            OLS   Adj. R-squared:                  0.258\n",
      "Method:                 Least Squares   F-statistic:                     5416.\n",
      "Date:                Tue, 23 Feb 2021   Prob (F-statistic):               0.00\n",
      "Time:                        22:52:04   Log-Likelihood:                -4289.1\n",
      "No. Observations:               49808   AIC:                             8582.\n",
      "Df Residuals:                   49806   BIC:                             8600.\n",
      "Df Model:                           1                                         \n",
      "Covariance Type:                  HC1                                         \n",
      "==============================================================================\n",
      "                 coef    std err          t      P>|t|      [0.025      0.975]\n",
      "------------------------------------------------------------------------------\n",
      "Intercept      0.4937      0.006     79.660      0.000       0.482       0.506\n",
      "binge          0.4619      0.006     73.594      0.000       0.450       0.474\n",
      "==============================================================================\n",
      "Omnibus:                    18815.946   Durbin-Watson:                   1.989\n",
      "Prob(Omnibus):                  0.000   Jarque-Bera (JB):            86466.482\n",
      "Skew:                          -1.810   Prob(JB):                         0.00\n",
      "Kurtosis:                       8.344   Cond. No.                         5.36\n",
      "==============================================================================\n",
      "\n",
      "Warnings:\n",
      "[1] Standard Errors are heteroscedasticity robust (HC1)\n",
      "Binge Coefficient rounded to 2 decimal points: 0.46\n"
     ]
    }
   ],
   "source": [
    "# YOUR CODE HERE\n",
    "\n",
    "#Regress complete on binge and fit model: \n",
    "m = smf.ols('complete~binge', data = data_coursera).fit()\n",
    "\n",
    "#Print old model summary: \n",
    "print(m.summary())\n",
    "\n",
    "#Now, let's calculate robust standard error\n",
    "ols_robust = m.get_robustcov_results(cov_type= 'HC1')\n",
    "\n",
    "#Print robust standard error model summary: \n",
    "print(ols_robust.summary())\n",
    "\n",
    "#Hence, assigning coefficient in front of the binge variable to binge_coeff1_1: \n",
    "\n",
    "binge_coeff1_1 = round(0.4619,2)\n",
    "\n",
    "print(f'Binge Coefficient rounded to 2 decimal points: {binge_coeff1_1}')\n",
    "#raise NotImplementedError()"
   ]
  },
  {
   "cell_type": "code",
   "execution_count": 4,
   "metadata": {
    "deletable": false,
    "editable": false,
    "nbgrader": {
     "checksum": "bb73d56783d9a5ea9e5f88055f0bf1fe",
     "grade": true,
     "grade_id": "Test1_1",
     "locked": true,
     "points": 1,
     "schema_version": 1,
     "solution": false
    }
   },
   "outputs": [],
   "source": [
    "# Hidden Tests, checking value of binge_coeff1_1."
   ]
  },
  {
   "cell_type": "markdown",
   "metadata": {
    "deletable": false,
    "editable": false,
    "nbgrader": {
     "checksum": "01b00bf7383cdeb26e700ad94171a77b",
     "grade": false,
     "grade_id": "Question1_2",
     "locked": true,
     "schema_version": 1,
     "solution": false
    }
   },
   "source": [
    "**2.** Now run the regression (using robust standard errors) one more time with additional controls: *paid_enroll*, *prv_wk_nbr*, *prv_wk_min*. Assign the coefficient in front of *binge* to the variable `binge_coeff1_2` and ensure that its data type is float. (Round to two decimal places.) (1 pt)"
   ]
  },
  {
   "cell_type": "code",
   "execution_count": 5,
   "metadata": {
    "deletable": false,
    "nbgrader": {
     "checksum": "c56295fbda32b629807b0325812e44c1",
     "grade": false,
     "grade_id": "Answer1_2",
     "locked": false,
     "schema_version": 1,
     "solution": true
    }
   },
   "outputs": [
    {
     "name": "stdout",
     "output_type": "stream",
     "text": [
      "                            OLS Regression Results                            \n",
      "==============================================================================\n",
      "Dep. Variable:               complete   R-squared:                       0.334\n",
      "Model:                            OLS   Adj. R-squared:                  0.334\n",
      "Method:                 Least Squares   F-statistic:                     6243.\n",
      "Date:                Tue, 23 Feb 2021   Prob (F-statistic):               0.00\n",
      "Time:                        22:52:04   Log-Likelihood:                -1611.9\n",
      "No. Observations:               49808   AIC:                             3234.\n",
      "Df Residuals:                   49803   BIC:                             3278.\n",
      "Df Model:                           4                                         \n",
      "Covariance Type:            nonrobust                                         \n",
      "===============================================================================\n",
      "                  coef    std err          t      P>|t|      [0.025      0.975]\n",
      "-------------------------------------------------------------------------------\n",
      "Intercept       0.4317      0.004     96.942      0.000       0.423       0.440\n",
      "binge           0.3172      0.004     82.596      0.000       0.310       0.325\n",
      "paid_enroll     0.0073      0.002      3.183      0.001       0.003       0.012\n",
      "prv_wk_nbr      0.0021      0.001      2.670      0.008       0.001       0.004\n",
      "prv_wk_min      0.0007   9.58e-06     75.096      0.000       0.001       0.001\n",
      "==============================================================================\n",
      "Omnibus:                    11498.336   Durbin-Watson:                   1.990\n",
      "Prob(Omnibus):                  0.000   Jarque-Bera (JB):            32772.569\n",
      "Skew:                          -1.217   Prob(JB):                         0.00\n",
      "Kurtosis:                       6.142   Cond. No.                     1.28e+03\n",
      "==============================================================================\n",
      "\n",
      "Warnings:\n",
      "[1] Standard Errors assume that the covariance matrix of the errors is correctly specified.\n",
      "[2] The condition number is large, 1.28e+03. This might indicate that there are\n",
      "strong multicollinearity or other numerical problems.\n",
      "                            OLS Regression Results                            \n",
      "==============================================================================\n",
      "Dep. Variable:               complete   R-squared:                       0.334\n",
      "Model:                            OLS   Adj. R-squared:                  0.334\n",
      "Method:                 Least Squares   F-statistic:                     2629.\n",
      "Date:                Tue, 23 Feb 2021   Prob (F-statistic):               0.00\n",
      "Time:                        22:52:05   Log-Likelihood:                -1611.9\n",
      "No. Observations:               49808   AIC:                             3234.\n",
      "Df Residuals:                   49803   BIC:                             3278.\n",
      "Df Model:                           4                                         \n",
      "Covariance Type:                  HC1                                         \n",
      "===============================================================================\n",
      "                  coef    std err          t      P>|t|      [0.025      0.975]\n",
      "-------------------------------------------------------------------------------\n",
      "Intercept       0.4317      0.007     63.185      0.000       0.418       0.445\n",
      "binge           0.3172      0.007     47.510      0.000       0.304       0.330\n",
      "paid_enroll     0.0073      0.002      3.174      0.002       0.003       0.012\n",
      "prv_wk_nbr      0.0021      0.001      2.683      0.007       0.001       0.004\n",
      "prv_wk_min      0.0007   1.18e-05     61.105      0.000       0.001       0.001\n",
      "==============================================================================\n",
      "Omnibus:                    11498.336   Durbin-Watson:                   1.990\n",
      "Prob(Omnibus):                  0.000   Jarque-Bera (JB):            32772.569\n",
      "Skew:                          -1.217   Prob(JB):                         0.00\n",
      "Kurtosis:                       6.142   Cond. No.                     1.28e+03\n",
      "==============================================================================\n",
      "\n",
      "Warnings:\n",
      "[1] Standard Errors are heteroscedasticity robust (HC1)\n",
      "[2] The condition number is large, 1.28e+03. This might indicate that there are\n",
      "strong multicollinearity or other numerical problems.\n",
      "Binge Coefficient rounded to 2 decimal points: 0.32\n"
     ]
    }
   ],
   "source": [
    "# YOUR CODE HERE\n",
    "#Regress complete on binge, paid_enroll, prv_wk_nbr, prv_wk_min and fit model: \n",
    "m_2 = smf.ols('complete~binge+paid_enroll+prv_wk_nbr+prv_wk_min', data = data_coursera).fit()\n",
    "\n",
    "#Print old model summary: \n",
    "print(m_2.summary())\n",
    "\n",
    "#Now, let's calculate robust standard error\n",
    "ols_robust_2 = m_2.get_robustcov_results(cov_type= 'HC1')\n",
    "\n",
    "#Print robust standard error model summary: \n",
    "print(ols_robust_2.summary())\n",
    "\n",
    "#Hence, assigning coefficient in front of the binge variable to binge_coeff1_1: \n",
    "\n",
    "binge_coeff1_2 = round(0.3172 ,2)\n",
    "\n",
    "print(f'Binge Coefficient rounded to 2 decimal points: {binge_coeff1_2}')\n",
    "#raise NotImplementedError()"
   ]
  },
  {
   "cell_type": "code",
   "execution_count": 6,
   "metadata": {
    "deletable": false,
    "editable": false,
    "nbgrader": {
     "checksum": "9ad74ebc9d1ba33945a5d60b98472721",
     "grade": true,
     "grade_id": "Test1_2",
     "locked": true,
     "points": 1,
     "schema_version": 1,
     "solution": false
    }
   },
   "outputs": [],
   "source": [
    "# Hidden Tests, checking value of binge_coeff1_2."
   ]
  },
  {
   "cell_type": "markdown",
   "metadata": {
    "deletable": false,
    "editable": false,
    "nbgrader": {
     "checksum": "98c934af2ff84af48b33359f93b01e56",
     "grade": false,
     "grade_id": "Description",
     "locked": true,
     "schema_version": 1,
     "solution": false
    }
   },
   "source": [
    "When the point estimate we are interested in (i.e., the coefficient in front of variable binge) changes drastically with the inclusion of further covariates, we consider that to be worrisome for causal inference purposes (remember the regression sensitivity analysis). Furthermore, intuitively the positive correlation between bingeing and completion could just be the result of self-selection by learners who are both inherently more likely to complete as well as more likely to binge because of higher motivation. To overcome this problem, researchers in Coursera decided to run a randomized encouragement trial. They randomly split their learners into two groups. The treatment group received a message immediately after completing a week of material. The goal of the message was to encourage learners to start the next week right away (see below). The control group didn’t receive the message.\n",
    "\n",
    "<img src=\"assets/Congratulations.png\" alt=\"Treatment Message\" style=\"width: 500px;\"/>"
   ]
  },
  {
   "cell_type": "markdown",
   "metadata": {},
   "source": [
    "<img src=\"../Data/Congratulations.png\" alt=\"Treatment Message\" style=\"width: 300px;\"/>"
   ]
  },
  {
   "cell_type": "markdown",
   "metadata": {
    "deletable": false,
    "editable": false,
    "nbgrader": {
     "checksum": "e01010b2281f3654a03ab0cfe606d046",
     "grade": false,
     "grade_id": "ManualQuestion2_1",
     "locked": true,
     "schema_version": 1,
     "solution": false
    }
   },
   "source": [
    "## Part 2\n",
    "\n",
    "### Questions \n",
    "\n",
    "We will be using the binary variable message as our instrument to investigate the impact of binging on completion of the following week’s lecture.\n",
    "\n",
    "**1.** Since messages were randomly assigned, we know that the independence assumption is satisfied. What does the exclusion restriction mean in this context? (2 pts)\n",
    "\n",
    "**Note**: This question will be manually graded. "
   ]
  },
  {
   "cell_type": "markdown",
   "metadata": {
    "deletable": false,
    "nbgrader": {
     "checksum": "0072c6dc4c2e9ad4b62e61287c88d172",
     "grade": true,
     "grade_id": "ManualAnswer2_1",
     "locked": false,
     "points": 0,
     "schema_version": 1,
     "solution": true
    }
   },
   "source": [
    "YOUR ANSWER HERE\n",
    "\n",
    "Exclusion restriction in this context means that message variable cannot not directly affect completion of the following week's lecture. The instrument variable \"message\" would have to go through a single channel (in this case \"binge\") to affect the completion of the following week's lecture. "
   ]
  },
  {
   "cell_type": "markdown",
   "metadata": {
    "deletable": false,
    "editable": false,
    "nbgrader": {
     "checksum": "d01c4bed423b89bacb2c31e83dd1dbd1",
     "grade": false,
     "grade_id": "Question2_2a",
     "locked": true,
     "schema_version": 1,
     "solution": false
    }
   },
   "source": [
    "**2.** Let’s look at the first stage relationship.\n",
    "\n",
    "**2a.** Using robust standard errors in the statsmodels module, regress variable *binge* on variable *message*. Assign the results (using the `.get_robustcov_results()` method) to the variable `robust_reg2_2a`. (1 pt)"
   ]
  },
  {
   "cell_type": "code",
   "execution_count": 7,
   "metadata": {
    "deletable": false,
    "nbgrader": {
     "checksum": "7cb7d524022bb6509a86aeda7519cc3d",
     "grade": false,
     "grade_id": "Answer2_2a",
     "locked": false,
     "schema_version": 1,
     "solution": true
    }
   },
   "outputs": [
    {
     "name": "stdout",
     "output_type": "stream",
     "text": [
      "                            OLS Regression Results                            \n",
      "==============================================================================\n",
      "Dep. Variable:                  binge   R-squared:                       0.016\n",
      "Model:                            OLS   Adj. R-squared:                  0.016\n",
      "Method:                 Least Squares   F-statistic:                     830.7\n",
      "Date:                Tue, 23 Feb 2021   Prob (F-statistic):          3.52e-181\n",
      "Time:                        22:52:05   Log-Likelihood:                -16399.\n",
      "No. Observations:               49909   AIC:                         3.280e+04\n",
      "Df Residuals:                   49907   BIC:                         3.282e+04\n",
      "Df Model:                           1                                         \n",
      "Covariance Type:            nonrobust                                         \n",
      "==============================================================================\n",
      "                 coef    std err          t      P>|t|      [0.025      0.975]\n",
      "------------------------------------------------------------------------------\n",
      "Intercept      0.8243      0.002    387.409      0.000       0.820       0.828\n",
      "message        0.0867      0.003     28.822      0.000       0.081       0.093\n",
      "==============================================================================\n",
      "Omnibus:                    18733.583   Durbin-Watson:                   2.007\n",
      "Prob(Omnibus):                  0.000   Jarque-Bera (JB):            51409.603\n",
      "Skew:                          -2.115   Prob(JB):                         0.00\n",
      "Kurtosis:                       5.614   Cond. No.                         2.62\n",
      "==============================================================================\n",
      "\n",
      "Warnings:\n",
      "[1] Standard Errors assume that the covariance matrix of the errors is correctly specified.\n",
      "                            OLS Regression Results                            \n",
      "==============================================================================\n",
      "Dep. Variable:                  binge   R-squared:                       0.016\n",
      "Model:                            OLS   Adj. R-squared:                  0.016\n",
      "Method:                 Least Squares   F-statistic:                     830.7\n",
      "Date:                Tue, 23 Feb 2021   Prob (F-statistic):          3.54e-181\n",
      "Time:                        22:52:05   Log-Likelihood:                -16399.\n",
      "No. Observations:               49909   AIC:                         3.280e+04\n",
      "Df Residuals:                   49907   BIC:                         3.282e+04\n",
      "Df Model:                           1                                         \n",
      "Covariance Type:                  HC1                                         \n",
      "==============================================================================\n",
      "                 coef    std err          t      P>|t|      [0.025      0.975]\n",
      "------------------------------------------------------------------------------\n",
      "Intercept      0.8243      0.002    342.124      0.000       0.820       0.829\n",
      "message        0.0867      0.003     28.822      0.000       0.081       0.093\n",
      "==============================================================================\n",
      "Omnibus:                    18733.583   Durbin-Watson:                   2.007\n",
      "Prob(Omnibus):                  0.000   Jarque-Bera (JB):            51409.603\n",
      "Skew:                          -2.115   Prob(JB):                         0.00\n",
      "Kurtosis:                       5.614   Cond. No.                         2.62\n",
      "==============================================================================\n",
      "\n",
      "Warnings:\n",
      "[1] Standard Errors are heteroscedasticity robust (HC1)\n"
     ]
    },
    {
     "data": {
      "text/plain": [
       "<statsmodels.regression.linear_model.OLSResults at 0x7fd3a848c5c0>"
      ]
     },
     "execution_count": 7,
     "metadata": {},
     "output_type": "execute_result"
    }
   ],
   "source": [
    "# YOUR CODE HERE\n",
    "\n",
    "#Regress treatment variable \"binge\" on instrument variable \"message\" (first stage) and fit model: \n",
    "m_3 = smf.ols('binge~message', data = data_coursera).fit()\n",
    "\n",
    "#Print old model summary: \n",
    "print(m_3.summary())\n",
    "\n",
    "#Now, let's calculate robust standard error\n",
    "robust_reg2_2a = m_3.get_robustcov_results(cov_type= 'HC1')\n",
    "\n",
    "#Print robust standard error model summary: \n",
    "print(robust_reg2_2a.summary())\n",
    "\n",
    "robust_reg2_2a\n",
    "#raise NotImplementedError()"
   ]
  },
  {
   "cell_type": "code",
   "execution_count": 8,
   "metadata": {
    "deletable": false,
    "editable": false,
    "nbgrader": {
     "checksum": "902596e2e5870d4f22b9a5295e510416",
     "grade": true,
     "grade_id": "Test2_2a",
     "locked": true,
     "points": 1,
     "schema_version": 1,
     "solution": false
    }
   },
   "outputs": [],
   "source": [
    "# Hidden Tests, checking the coefficients and standard errors of robust_reg2_2a."
   ]
  },
  {
   "cell_type": "markdown",
   "metadata": {
    "deletable": false,
    "editable": false,
    "nbgrader": {
     "checksum": "0c17e6965fa6827e816dbcaabbc0a66a",
     "grade": false,
     "grade_id": "ManualQuestion2_2b",
     "locked": true,
     "schema_version": 1,
     "solution": false
    }
   },
   "source": [
    "**2b.** Do we have a strong first stage? Explain. (1 pt)\n",
    "\n",
    "**Note**: This question will be manually graded."
   ]
  },
  {
   "cell_type": "markdown",
   "metadata": {
    "deletable": false,
    "nbgrader": {
     "checksum": "0ef4d6970af6ae0d6b66cac5d3182f73",
     "grade": true,
     "grade_id": "ManualAnswer2_2b",
     "locked": false,
     "points": 0,
     "schema_version": 1,
     "solution": true
    }
   },
   "source": [
    "YOUR ANSWER HERE\n",
    "\n",
    "Yes, it is because we see a high t-statistics of 28.822 which is greater than the squareroot of 10, and a positive coefficient for \"message variable\" 0.0867 suggesting a strong first stage. \n",
    "\n",
    "Another point to note here is that, if we do not have the strong first stage then exclusion restriction property of instrument variable will be violated. That is, the instrument variable \"message\" would affect the outcome variable \"completion\" without going through the treatment variable \"binge\", which would not be desirable. "
   ]
  },
  {
   "cell_type": "markdown",
   "metadata": {
    "deletable": false,
    "editable": false,
    "nbgrader": {
     "checksum": "574202c55952a4a653feaf532e0758af",
     "grade": false,
     "grade_id": "Question2_3",
     "locked": true,
     "schema_version": 1,
     "solution": false
    }
   },
   "source": [
    "**3.**  Let’s look at the intention-to-treat effect.\n",
    "\n",
    "**3a.** Calculate the “intention-to-treat” (ITT) effect by running the reduced form regression. That is, using robust standard errors, regress *complete* on *message*. Based on your regression results, how much does receiving a message change the likelihood of completing the next week? Assign this number (the coefficient in front of variable *message*) to the variable `l_change2_3` and ensure that its data type is float. (Round to two decimal places.) (1 pt)"
   ]
  },
  {
   "cell_type": "code",
   "execution_count": 9,
   "metadata": {
    "deletable": false,
    "nbgrader": {
     "checksum": "aa50c77930dc22047b581349c94fd490",
     "grade": false,
     "grade_id": "Answer2_3",
     "locked": false,
     "schema_version": 1,
     "solution": true
    }
   },
   "outputs": [
    {
     "name": "stdout",
     "output_type": "stream",
     "text": [
      "                            OLS Regression Results                            \n",
      "==============================================================================\n",
      "Dep. Variable:               complete   R-squared:                       0.000\n",
      "Model:                            OLS   Adj. R-squared:                  0.000\n",
      "Method:                 Least Squares   F-statistic:                     17.05\n",
      "Date:                Tue, 23 Feb 2021   Prob (F-statistic):           3.65e-05\n",
      "Time:                        22:52:05   Log-Likelihood:                -11725.\n",
      "No. Observations:               49808   AIC:                         2.345e+04\n",
      "Df Residuals:                   49806   BIC:                         2.347e+04\n",
      "Df Model:                           1                                         \n",
      "Covariance Type:            nonrobust                                         \n",
      "==============================================================================\n",
      "                 coef    std err          t      P>|t|      [0.025      0.975]\n",
      "------------------------------------------------------------------------------\n",
      "Intercept      0.8896      0.002    458.907      0.000       0.886       0.893\n",
      "message        0.0113      0.003      4.129      0.000       0.006       0.017\n",
      "==============================================================================\n",
      "Omnibus:                    24479.796   Durbin-Watson:                   1.998\n",
      "Prob(Omnibus):                  0.000   Jarque-Bera (JB):           100302.901\n",
      "Skew:                          -2.580   Prob(JB):                         0.00\n",
      "Kurtosis:                       7.659   Cond. No.                         2.62\n",
      "==============================================================================\n",
      "\n",
      "Warnings:\n",
      "[1] Standard Errors assume that the covariance matrix of the errors is correctly specified.\n",
      "                            OLS Regression Results                            \n",
      "==============================================================================\n",
      "Dep. Variable:               complete   R-squared:                       0.000\n",
      "Model:                            OLS   Adj. R-squared:                  0.000\n",
      "Method:                 Least Squares   F-statistic:                     17.05\n",
      "Date:                Tue, 23 Feb 2021   Prob (F-statistic):           3.65e-05\n",
      "Time:                        22:52:05   Log-Likelihood:                -11725.\n",
      "No. Observations:               49808   AIC:                         2.345e+04\n",
      "Df Residuals:                   49806   BIC:                         2.347e+04\n",
      "Df Model:                           1                                         \n",
      "Covariance Type:                  HC1                                         \n",
      "==============================================================================\n",
      "                 coef    std err          t      P>|t|      [0.025      0.975]\n",
      "------------------------------------------------------------------------------\n",
      "Intercept      0.8896      0.002    448.344      0.000       0.886       0.893\n",
      "message        0.0113      0.003      4.129      0.000       0.006       0.017\n",
      "==============================================================================\n",
      "Omnibus:                    24479.796   Durbin-Watson:                   1.998\n",
      "Prob(Omnibus):                  0.000   Jarque-Bera (JB):           100302.901\n",
      "Skew:                          -2.580   Prob(JB):                         0.00\n",
      "Kurtosis:                       7.659   Cond. No.                         2.62\n",
      "==============================================================================\n",
      "\n",
      "Warnings:\n",
      "[1] Standard Errors are heteroscedasticity robust (HC1)\n",
      "Coefficient in front of variable message: 0.01\n"
     ]
    }
   ],
   "source": [
    "# YOUR CODE HERE\n",
    "#Regress outcome variable \"complete\" on instrumental variable \"message\" (ITT) and fit model: \n",
    "m_4 = smf.ols('complete~message', data = data_coursera).fit()\n",
    "\n",
    "#Print old model summary: \n",
    "print(m_4.summary())\n",
    "\n",
    "#Now, let's calculate robust standard error\n",
    "robust_reg2_4 = m_4.get_robustcov_results(cov_type= 'HC1')\n",
    "\n",
    "#Print robust standard error model summary: \n",
    "print(robust_reg2_4.summary())\n",
    "\n",
    "#Hence, from above we can see the likelihood of completing the next week after receiving the message: \n",
    "l_change2_3 = round(0.0113, 2)\n",
    "\n",
    "print(f\"Coefficient in front of variable message: {l_change2_3}\")\n",
    "#raise NotImplementedError()"
   ]
  },
  {
   "cell_type": "code",
   "execution_count": 10,
   "metadata": {
    "deletable": false,
    "editable": false,
    "nbgrader": {
     "checksum": "1ea1128d96e06068b0f89b2ca7bacc3e",
     "grade": true,
     "grade_id": "Test2_3",
     "locked": true,
     "points": 1,
     "schema_version": 1,
     "solution": false
    }
   },
   "outputs": [],
   "source": [
    "# Hidden Tests, checking value of l_change2_3"
   ]
  },
  {
   "cell_type": "markdown",
   "metadata": {
    "deletable": false,
    "editable": false,
    "nbgrader": {
     "checksum": "25b2ec14e7829135219d3c1c8c87d893",
     "grade": false,
     "grade_id": "ManualQuestion2_3",
     "locked": true,
     "schema_version": 1,
     "solution": false
    }
   },
   "source": [
    "**3b.** Based on the p-value, can you conclude that it is significant at the 5% level? Explain. (i.e. report BOTH the p-value AND the decision rule based on p-value to determine if the coefficient differs from 0 at the 5% significance level) (1 pt) \n",
    "\n",
    "**Note**: This question will be manually graded."
   ]
  },
  {
   "cell_type": "markdown",
   "metadata": {
    "deletable": false,
    "nbgrader": {
     "checksum": "4d9573ba7f300a6e74d2b0694eaaad5c",
     "grade": true,
     "grade_id": "ManualAnswer2_3",
     "locked": false,
     "points": 0,
     "schema_version": 1,
     "solution": true
    }
   },
   "source": [
    "YOUR ANSWER HERE\n",
    "\n",
    "Yes, at p-value = 0.000 it is statistically significant at 5% significant level. The p-value = 0.000 is lower than the 5% significant level, hence null hypothesis (receiving message has no impact on completion) can be rejected, and we would proceed with the alternate hypothesis.      "
   ]
  },
  {
   "cell_type": "markdown",
   "metadata": {
    "deletable": false,
    "editable": false,
    "nbgrader": {
     "checksum": "35cd7eb57df40bb3ec99e38f7f382608",
     "grade": false,
     "grade_id": "ManualQuestion2_4",
     "locked": true,
     "schema_version": 1,
     "solution": false
    }
   },
   "source": [
    "**4.** The ITT doesn’t take into account that some users may not comply with the treatment assignment. With heterogeneous treatment effects, we have an additional assumption: monotonicity. This means that there are “no defiers” in the population. Explain what “no defiers” means in this context. (2 pts) \n",
    "\n",
    "**Note**: This question will be manually graded."
   ]
  },
  {
   "cell_type": "markdown",
   "metadata": {
    "deletable": false,
    "nbgrader": {
     "checksum": "9a5ba1bfeafcbf023f63e0b2e0e88c95",
     "grade": true,
     "grade_id": "ManualAnswer2_4",
     "locked": false,
     "points": 0,
     "schema_version": 1,
     "solution": true
    }
   },
   "source": [
    "YOUR ANSWER HERE\n",
    "\n",
    "In the above context, it would mean that people assigned to the treatment \"binge\" will be more likely to comply with bingeing as there would be no defiers (i.e people who would do opposite when asked to binge) in the population. \n",
    "This assumption will ensure that instrumental variable \"message\" will affect people in one direction only, hence, making more people likely to get the treatment under no defiers assumption.  "
   ]
  },
  {
   "cell_type": "markdown",
   "metadata": {
    "deletable": false,
    "editable": false,
    "nbgrader": {
     "checksum": "9646e35af927802d26e199ab8a16b641",
     "grade": false,
     "grade_id": "Question2_5",
     "locked": true,
     "schema_version": 1,
     "solution": false
    }
   },
   "source": [
    "**5.** Assuming the no defiers assumption is satisfied,  calculate the share of “always-takers,” which is given by the probability of bingeing when assigned to not receive a message. (You can calculate this value by dividing the number of learners who binged without receiving a message to the total number of learners in the no message group.) Assign the value to the variable `at_share2_5` and ensure that its data type is float. (Round to two decimal places.) (1 pt)"
   ]
  },
  {
   "cell_type": "code",
   "execution_count": 11,
   "metadata": {
    "deletable": false,
    "nbgrader": {
     "checksum": "08467cb2a52c5e2d0e09464b7df96b14",
     "grade": false,
     "grade_id": "Answer2_5",
     "locked": false,
     "schema_version": 1,
     "solution": true
    }
   },
   "outputs": [],
   "source": [
    "# YOUR CODE HERE\n",
    "data_coursera.head()\n",
    "\n",
    "#Calculate share of always_takers (Means they binge even when the message is not received) : \n",
    "#Ratio = Number of learners binged without receiving a message/Total learners in no message group\n",
    "\n",
    "#Number of learners binged without receiving a message: \n",
    "binged_no_msg = data_coursera['binge'][(data_coursera['message']==0) & (data_coursera['binge']==1)].count()\n",
    "\n",
    "#Total learners in no message group: \n",
    "no_msg_group = data_coursera['message'][data_coursera['message']==0].count()\n",
    "\n",
    "#Hence, share of always_takers: \n",
    "at_share2_5 = round(binged_no_msg/no_msg_group, 2)\n",
    "\n",
    "#raise NotImplementedError()"
   ]
  },
  {
   "cell_type": "code",
   "execution_count": 12,
   "metadata": {},
   "outputs": [
    {
     "name": "stdout",
     "output_type": "stream",
     "text": [
      "Share of always_takers: 0.82\n"
     ]
    }
   ],
   "source": [
    "print(f\"Share of always_takers: {at_share2_5}\")"
   ]
  },
  {
   "cell_type": "code",
   "execution_count": 13,
   "metadata": {
    "deletable": false,
    "editable": false,
    "nbgrader": {
     "checksum": "3da37799d4a4b2c9842cf698482f0635",
     "grade": true,
     "grade_id": "Test2_5",
     "locked": true,
     "points": 1,
     "schema_version": 1,
     "solution": false
    }
   },
   "outputs": [],
   "source": [
    "# Hidden Tests, checking value of at_share2_5"
   ]
  },
  {
   "cell_type": "markdown",
   "metadata": {
    "deletable": false,
    "editable": false,
    "nbgrader": {
     "checksum": "64cf9eb34820a6457f87b1ba195408ab",
     "grade": false,
     "grade_id": "Question2_6",
     "locked": true,
     "schema_version": 1,
     "solution": false
    }
   },
   "source": [
    "**6.** Similarly, calculate the share of “never-takers”, which is given by the probability of not bingeing when assigned to receiving a message. Assign the value to the variable `nt_share2_6` and ensure that its data type is float. (Round to two decimal places.) (1 pt)"
   ]
  },
  {
   "cell_type": "code",
   "execution_count": 14,
   "metadata": {
    "deletable": false,
    "nbgrader": {
     "checksum": "1bcaa8619156fc121c26f612f075f517",
     "grade": false,
     "grade_id": "Answer2_6",
     "locked": false,
     "schema_version": 1,
     "solution": true
    }
   },
   "outputs": [],
   "source": [
    "# YOUR CODE HERE\n",
    "#Calculate share of nevers_takers (Means they do not binge even when they receive the message) : \n",
    "#Ratio = Number of learners not binged with receiving a message/Total learners in message group\n",
    "\n",
    "#Number of learners not binged after receiving a message: \n",
    "no_binged_msg_recvd = data_coursera['binge'][(data_coursera['message']==1) & (data_coursera['binge']==0)].count()\n",
    "\n",
    "#Total learners in message group: \n",
    "msg_recvd_group = data_coursera['message'][data_coursera['message']==1].count()\n",
    "\n",
    "#Hence, share of always_takers: \n",
    "nt_share2_6 = round(no_binged_msg_recvd/msg_recvd_group, 2)\n",
    "#raise NotImplementedError()"
   ]
  },
  {
   "cell_type": "code",
   "execution_count": 15,
   "metadata": {},
   "outputs": [
    {
     "name": "stdout",
     "output_type": "stream",
     "text": [
      "Share of never_takers: 0.09\n"
     ]
    }
   ],
   "source": [
    "print(f\"Share of never_takers: {nt_share2_6}\")"
   ]
  },
  {
   "cell_type": "code",
   "execution_count": 16,
   "metadata": {
    "deletable": false,
    "editable": false,
    "nbgrader": {
     "checksum": "0d54cf5580b1836829c2f515e8852502",
     "grade": true,
     "grade_id": "Test2_6",
     "locked": true,
     "points": 1,
     "schema_version": 1,
     "solution": false
    }
   },
   "outputs": [],
   "source": [
    "# Hidden Tests, checking value of nt_share2_6."
   ]
  },
  {
   "cell_type": "markdown",
   "metadata": {
    "deletable": false,
    "editable": false,
    "nbgrader": {
     "checksum": "fab659058440d9e0abe6128291945f27",
     "grade": false,
     "grade_id": "Question2_7",
     "locked": true,
     "schema_version": 1,
     "solution": false
    }
   },
   "source": [
    "**7.** ITT effects divided by the difference in compliance rates between the two groups (i.e. the effect of the instrument on the treatment) captures the causal effect of bingeing on compliers who binged as a result of the experiment. That is, the IV estimate we are interested in is equal to the reduced form divided by the first stage. Calculate the IV estimate manually, that is, divide the reduced form coefficient from Part 2, Question 3a (rounded to two decimal places) by the first stage coefficient from Part 2, Question 2a (rounded to two decimal places). Assign the value to the variable `answer2_7` and ensure that its data type is float. (Round to two decimal places.) (1 pt)"
   ]
  },
  {
   "cell_type": "code",
   "execution_count": 17,
   "metadata": {
    "deletable": false,
    "nbgrader": {
     "checksum": "87eefbe8ca3a67ac48ba1b4808d05a2d",
     "grade": false,
     "grade_id": "Answer2_7",
     "locked": false,
     "schema_version": 1,
     "solution": true
    }
   },
   "outputs": [],
   "source": [
    "# YOUR CODE HERE\n",
    "\n",
    "#Estimate IV estimate = Intention-for-treatment / first stage\n",
    "\n",
    "#ITT is already known = l_change2_3\n",
    "\n",
    "#First Stage, we can get it by taking the coefficient associated with the message and rounding it 2 decimal places: \n",
    "first_stage_message = round(0.0867,2)\n",
    "\n",
    "answer2_7 = round(l_change2_3/first_stage_message,2)\n",
    "\n",
    "#raise NotImplementedError()"
   ]
  },
  {
   "cell_type": "code",
   "execution_count": 18,
   "metadata": {},
   "outputs": [
    {
     "name": "stdout",
     "output_type": "stream",
     "text": [
      " IV Estimate : 0.11\n"
     ]
    }
   ],
   "source": [
    "print(f\" IV Estimate : {answer2_7}\")"
   ]
  },
  {
   "cell_type": "code",
   "execution_count": 19,
   "metadata": {
    "deletable": false,
    "editable": false,
    "nbgrader": {
     "checksum": "32cee85b3691a1d25acb039f7bbb4444",
     "grade": true,
     "grade_id": "Test2_7",
     "locked": true,
     "points": 1,
     "schema_version": 1,
     "solution": false
    }
   },
   "outputs": [],
   "source": [
    "# Hidden Tests, checking value of answer2_7."
   ]
  },
  {
   "cell_type": "markdown",
   "metadata": {
    "deletable": false,
    "editable": false,
    "nbgrader": {
     "checksum": "3f246384bec09881bda2223d4fb428bd",
     "grade": false,
     "grade_id": "Question2_8",
     "locked": true,
     "schema_version": 1,
     "solution": false
    }
   },
   "source": [
    "**8.** In order to obtain a measure of the precision of our IV estimate we want to use the 2SLS method. Using robust standard errors, run a two-stage least squares regression, where the outcome variable is *complete*, the instrumented variable is *binge* and the instrument is the variable *message*. Use the IV2SLS module from the linearmodels library. Assign the results using the `.fit()` method to the variable `iv2sls2_8`. (2 pts)\n",
    "\n",
    "**Note**: Be sure to remove any NAs from the dataframe before proceeding. "
   ]
  },
  {
   "cell_type": "code",
   "execution_count": 20,
   "metadata": {},
   "outputs": [
    {
     "data": {
      "text/plain": [
       "Index(['paid_enroll', 'prv_wk_nbr', 'prv_wk_min', 'message', 'binge',\n",
       "       'complete'],\n",
       "      dtype='object')"
      ]
     },
     "execution_count": 20,
     "metadata": {},
     "output_type": "execute_result"
    }
   ],
   "source": [
    "data_coursera.columns"
   ]
  },
  {
   "cell_type": "code",
   "execution_count": 21,
   "metadata": {
    "deletable": false,
    "nbgrader": {
     "checksum": "01fa7bd6ec757b478b153be7a6026e61",
     "grade": false,
     "grade_id": "Answer2_8",
     "locked": false,
     "schema_version": 1,
     "solution": true
    }
   },
   "outputs": [
    {
     "name": "stdout",
     "output_type": "stream",
     "text": [
      "                          IV-2SLS Estimation Summary                          \n",
      "==============================================================================\n",
      "Dep. Variable:               complete   R-squared:                      0.1213\n",
      "Estimator:                    IV-2SLS   Adj. R-squared:                 0.1213\n",
      "No. Observations:               49808   F-statistic:                    19.395\n",
      "Date:                Tue, Feb 23 2021   P-value (F-stat)                0.0000\n",
      "Time:                        22:52:06   Distribution:                  chi2(1)\n",
      "Cov. Estimator:                robust                                         \n",
      "                                                                              \n",
      "                             Parameter Estimates                              \n",
      "==============================================================================\n",
      "            Parameter  Std. Err.     T-stat    P-value    Lower CI    Upper CI\n",
      "------------------------------------------------------------------------------\n",
      "const          0.7862     0.0248     31.690     0.0000      0.7376      0.8348\n",
      "binge          0.1254     0.0285     4.4040     0.0000      0.0696      0.1812\n",
      "==============================================================================\n",
      "\n",
      "Endogenous: binge\n",
      "Instruments: message\n",
      "Robust Covariance (Heteroskedastic)\n",
      "Debiased: False\n"
     ]
    }
   ],
   "source": [
    "# YOUR CODE HERE\n",
    "\n",
    "#Remove any null values from the dataset: \n",
    "data_coursera_2 = data_coursera.dropna()\n",
    "\n",
    "#Add constant: \n",
    "data_coursera_2['const'] = 1\n",
    "\n",
    "\n",
    "#Dependent variable = complete\n",
    "#Endogenous variable = binge\n",
    "#Exogenous variable = const, paid_enroll, prv_wk_nbr, prv_wk_min\n",
    "#Instrument = message\n",
    "\n",
    "\n",
    "#Now, we can plug in above variables: \n",
    "iv2sls2_8 = IV2SLS(dependent = data_coursera_2['complete'],\n",
    "                   exog= data_coursera_2['const'], #data_coursera_2[['const', 'paid_enroll', 'prv_wk_nbr', 'prv_wk_min']],\n",
    "                   endog = data_coursera_2['binge'],\n",
    "                   instruments= data_coursera_2['message']).fit(cov_type= 'robust')\n",
    "\n",
    "#Print summary: \n",
    "print(iv2sls2_8.summary)\n",
    "\n",
    "#Alternatively, we can also re-write above using a 2 stage regression formula (But in above case we only require 'const' as exog variable: \n",
    "#alternatively = IV2SLS.from_formula('complete ~ const + [binge ~ message]', data = data_coursera_2).fit(cov_type= 'robust')\n",
    "\n",
    "#raise NotImplementedError()"
   ]
  },
  {
   "cell_type": "code",
   "execution_count": 22,
   "metadata": {
    "deletable": false,
    "editable": false,
    "nbgrader": {
     "checksum": "5420f01c7416da31702d526a9a63e5f0",
     "grade": true,
     "grade_id": "cell-356713fff0582d57",
     "locked": true,
     "points": 2,
     "schema_version": 1,
     "solution": false
    }
   },
   "outputs": [],
   "source": [
    "# Hidden Tests, checking the coefficients and standard errors of iv2sls2_8."
   ]
  }
 ],
 "metadata": {
  "coursera": {
   "schema_names": [
    "mads_causal_inference_v1_assignment3"
   ]
  },
  "kernelspec": {
   "display_name": "Python 3 (ipykernel)",
   "language": "python",
   "name": "python3"
  },
  "language_info": {
   "codemirror_mode": {
    "name": "ipython",
    "version": 3
   },
   "file_extension": ".py",
   "mimetype": "text/x-python",
   "name": "python",
   "nbconvert_exporter": "python",
   "pygments_lexer": "ipython3",
   "version": "3.9.7"
  }
 },
 "nbformat": 4,
 "nbformat_minor": 2
}
